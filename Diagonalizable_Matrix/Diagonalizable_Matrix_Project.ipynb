{
 "cells": [
  {
   "cell_type": "markdown",
   "id": "74aeb28c",
   "metadata": {},
   "source": [
    "# Thông tin sinh viên\n",
    "\n",
    "## - **Họ tên:** Trần Nguyên Huân\n",
    "## - **Mã số sinh viên:** 21127050\n",
    "## - **Lớp:** 21CLC03"
   ]
  },
  {
   "cell_type": "code",
   "execution_count": 96,
   "id": "c6ca18b8",
   "metadata": {},
   "outputs": [],
   "source": [
    "import numpy as np\n",
    "import sympy as sp\n",
    "import math"
   ]
  },
  {
   "cell_type": "markdown",
   "id": "8f5015e4",
   "metadata": {},
   "source": [
    " # <font face=\"gotham\" color=\"purple\">Ma trận chéo hóa được</font>\n",
    " ---"
   ]
  },
  {
   "cell_type": "markdown",
   "id": "34b5ffbe",
   "metadata": {},
   "source": [
    "Một ma trận vuông $A$ cỡ $n\\times n$ được gọi là chéo hóa được hay không khiếm khuyết nếu tồn tại một ma trận khả nghịch P sao cho: \n",
    "$$\n",
    "A=PDP^{-1}\n",
    "$$\n",
    "Và hơn nữa, các cột của $P$ là các vectơ riêng độc lập tuyến tính của $A$, và các giá trị riêng tương ứng của nó nằm trên đường chéo của $D$.Nói cách khác, $A$ có thể chéo hóa được khi và chỉ khi số chiều của cơ sở không gian riêng là $n$."
   ]
  },
  {
   "cell_type": "markdown",
   "id": "b95cb376",
   "metadata": {},
   "source": [
    " # <font face=\"gotham\" color=\"purple\">Thuật toán chéo hóa ma trận</font>\n",
    " ---"
   ]
  },
  {
   "cell_type": "markdown",
   "id": "1f6d09be",
   "metadata": {},
   "source": [
    "\n",
    "> **Bước 1.** Giải phương trình đặc trưng $det(λI - A) = 0$ để tìm các trị riêng.\n",
    "> - Nếu $det(λI - A) = 0$ không phân rã hoàn toàn thành tích các đa thức dạng bậc 1 (dạng (*)) thì $A$ không chéo hóa được.\n",
    "> - Nếu $det(λI - A) = (λ - λ_{1})^{r_{1}} ... (λ - λ_{k})^{r_{k}}$ (*) thì sang bước 2.\n",
    ">\n",
    "> **Bước 2.** Với mỗi trị riêng $λ_i$ tìm một cơ sở $S_i$ cho không gian riêng $E_{λ_i} = \\{x \\in R^n | (λ_{i}I - A)x = 0\\}$\n",
    "> - Nếu tồn tại không gian riêng có $dim E_{λ_i} < r_{i}$ thì kết luận $A$ không chéo được. \n",
    "> - Nếu $dim E_{λ_i} = r_{i}, \\forall i = 1,2,...,k$, thì sang bước 3.\n",
    ">\n",
    "> **Bước 3.** Đặt $S = S_1 \\cup ... \\cup S_k = \\{ u_1, ..., u_n\\}$, thì S là một cơ sở của không gian $R^n$.\n",
    ">\n",
    "> Đặt $P = (u_1 ... u_n)$, ta có $P^{-1}AP = diag(λ_{1} ... λ_{1} ... λ_{k} ... λ_{1})$, với $λ_{i}$ lặp $r_i$ lần\n"
   ]
  },
  {
   "cell_type": "markdown",
   "id": "565a2a35",
   "metadata": {},
   "source": [
    " ## <font face=\"gotham\" color=\"green\">Thuật toán Power Iteration để tìm trị riêng - vector riêng (tham khảo thêm)</font>\n",
    " ---"
   ]
  },
  {
   "cell_type": "markdown",
   "id": "5fdbad8a",
   "metadata": {},
   "source": [
    "**Giải thích thuật toán**:\n",
    "Thuật toán Power Iteration được sử dụng để tìm giá trị riêng cực đại của ma trận vuông và vector riêng tương ứng của nó. Quá trình lặp sẽ dẫn đến giá trị riêng ước lượng càng chính xác với mỗi bước lặp, và vector riêng ước lượng cũng được cập nhật tương ứng. Khi thuật toán hội tụ, giá trị riêng ước lượng và vector riêng ước lượng tương ứng sẽ cung cấp một ước lượng của giá trị riêng cực đại và vector riêng tương ứng của ma trận A. Thuật toán này thường được sử dụng cho các ma trận lớn và thưa có giá trị riêng lớn nhất cách biệt rõ ràng với các giá trị riêng còn lại."
   ]
  },
  {
   "cell_type": "markdown",
   "id": "bcb397ca",
   "metadata": {},
   "source": [
    "**Đầu vào:** Ma trận vuông $A$ (kích thước $n\\times n$), và một vector bất kỳ $x_0$ có độ dài bằng số cột của ma trận $A$.\n",
    "\n",
    "**Đầu ra:** Giá trị riêng ước lượng cực đại $λ_{max}$ và vector riêng ước lượng tương ứng $v_{max}$ của ma trận $A$.\n",
    "\n",
    "> **Bước 1. Khởi tạo**: Chọn vector bắt đầu $x = x_0$ (có thể là vector ngẫu nhiên hoặc vector kiểm định).\n",
    ">\n",
    "> **Bước 2. Lặp**:\n",
    ">\n",
    "> - Thực hiện chuẩn hóa vector x: $x = \\frac{x}{{\\|x\\|}}$ ($||x||$ là norm của vector x).\n",
    "> - Tính vector mới y bằng cách nhân ma trận $A$ với vector x: $y = A * x$.\n",
    "> - Cập nhật giá trị riêng ước lượng $λ_{max}: λ_{max} = (x^T * y) / (x^T * x)$.\n",
    "> - Cập nhật vector riêng ước lượng $v_{max}: v_{max} = x$.\n",
    ">\n",
    "> **Bước 3. Kiểm tra điều kiện dừng**: Thoát khỏi vòng lặp nếu giá trị riêng ước lượng hội tụ đủ chính xác hoặc số vòng lặp đã đạt tới một ngưỡng nhất định.\n",
    ">\n",
    "> **Bước 4. Kết quả**: Trả về giá trị riêng ước lượng cực đại $λ_{max}$ và vector riêng ước lượng tương ứng $v_max$ của ma trận $A$."
   ]
  },
  {
   "cell_type": "markdown",
   "id": "1db9c1ab",
   "metadata": {},
   "source": [
    " ## <font face=\"gotham\" color=\"green\">Thuật toán ứng dụng của QR-Decomposition để tìm trị riêng - vector riêng (tham khảo thêm)</font>\n",
    " ---"
   ]
  },
  {
   "cell_type": "markdown",
   "id": "b59cc70f",
   "metadata": {},
   "source": [
    "**Giải thích thuật toán**:\n",
    "Thuật toán này là một phương pháp sử dụng phép phân rã QR để ước lượng các giá trị riêng và vector riêng của một ma trận vuông $A$. Ý tưởng chính của thuật toán là sử dụng phép phân rã QR lặp đi lặp lại trên ma trận $A$, cùng với việc cập nhật ma trận $Ak$ và ma trận đếm tổng hợp $QQ$, để tìm các giá trị riêng gần đúng và các vector riêng tương ứng."
   ]
  },
  {
   "cell_type": "markdown",
   "id": "70502f4d",
   "metadata": {},
   "source": [
    "**Đầu vào:** Ma trận vuông $A$ (kích thước $n\\times n$) và số lần lặp iterations.\n",
    "\n",
    "**Đầu ra:** Mảng chứa các giá trị riêng và ma trận chứa các vector riêng tương ứng của ma trận $A$.\n",
    "\n",
    "> **Bước 1. Khởi tạo**: Sao chép ma trận $A$ vào ma trận $Ak$. Tạo ma trận đơn vị $QQ$ với kích thước $n\\times n$.\n",
    ">\n",
    "> **Bước 2. Lặp**: Trong mỗi lần lặp, chúng ta thực hiện các bước sau:\n",
    ">\n",
    "> - Lấy phần tử cuối cùng của đường chéo chính của ma trận $Ak$ và gán vào biến $s$. Điều này tương đương với lấy giá trị riêng ước lượng tại lần lặp hiện tại.\n",
    "> - Tạo ma trận $smult$ là ma trận đơn vị nhân với hằng số $s$. Ma trận này được sử dụng để trừ đi phần tử cuối cùng của đường chéo chính của $Ak$.\n",
    "> - Thực hiện phép phân rã QR trên $Ak$ sau khi trừ đi ma trận $smult$: $Ak = QR - smult$. Phép phân rã QR phân tách ma trận $Ak$ thành hai ma trận $Q$ và $R$ sao cho $Ak = QR$.\n",
    "> - Cập nhật ma trận $Ak: Ak = RQ + smult$. Bước này là để quay lại ma trận ban đầu ($Ak$) sau khi đã thực hiện phân rã $QR$.\n",
    "> - Cập nhật ma trận $QQ: QQ = QQ * Q$. Điều này giúp tích lũy các ma trận Q được tính toán ở mỗi lần lặp, nhằm xây dựng ma trận chứa các vector riêng ước lượng tương ứng.\n",
    ">\n",
    "> **Bước 3. Kết quả**: Sau khi kết thúc vòng lặp, chúng ta trích xuất các giá trị trên đường chéo của ma trận $Ak$, đây là các giá trị riêng ước lượng gần đúng của ma trận $A$. Các vector riêng tương ứng ước lượng được lưu trong ma trận $QQ$.\n",
    "\n",
    "**Lưu ý**: số lần lặp (iterations) được chọn lớn để đảm bảo thuật toán hội tụ đủ chính xác. Tuy nhiên, việc chọn một giá trị lớn cho iterations có thể làm tăng thời gian tính toán. Thuật toán này thường được sử dụng để ước lượng các giá trị riêng và vector riêng của ma trận lớn khi không cần tính toán chính xác đến mức cao nhất."
   ]
  },
  {
   "cell_type": "markdown",
   "id": "8454908a",
   "metadata": {},
   "source": [
    " ## <font face=\"gotham\" color=\"green\">Nghịch đảo ma trận (phục vụ tìm P_inverse)</font>"
   ]
  },
  {
   "cell_type": "code",
   "execution_count": 97,
   "id": "8560756b",
   "metadata": {},
   "outputs": [],
   "source": [
    "#utility functions serve invserse matrix \n",
    "def is_zero(x):\n",
    "    return math.isclose(x, 0, abs_tol=1e-10)\n",
    "\n",
    "def row_switch(A, i, k):\n",
    "    \"di <-> dk\"\n",
    "    A[i], A[k] = A[k], A[i]\n",
    "\n",
    "def row_mul(A, i, alpha):\n",
    "    \"di = alpha*di\"\n",
    "    A[i] = [alpha*Aii for Aii in A[i]]\n",
    "\n",
    "def row_add(A, i, k, alpha):\n",
    "    \"di = di + anpha*dk\"\n",
    "    A[i] = [0 if is_zero(Aii + alpha*Aki) else Aii + alpha*Aki for Aii, Aki in zip(A[i], A[k])]\n",
    "\n",
    "def create_augmented_matrix_GJ(A):\n",
    "    I = create_identity_matrix(len(A))\n",
    "    return [Ai[:] + Ii for Ai, Ii in zip(A, I)]\n",
    "\n",
    "# Gauss-Jordan elimination\n",
    "def Gauss_Jordan(A):\n",
    "    # Append unique matrix to A matrix\n",
    "    augmented_A = create_augmented_matrix_GJ(A)\n",
    "\n",
    "    n_row = len(A)\n",
    "    n_col_A = len(A[0])\n",
    "\n",
    "    row = col = 0\n",
    "\n",
    "    while row < n_row:\n",
    "        # Step 1: Identify the leftmost column that contains only zeros\n",
    "        while col < n_col_A and all(is_zero(augmented_A[i][col]) for i in range(row, n_row)):\n",
    "            col += 1\n",
    "        if col == n_col_A:\n",
    "            break\n",
    "        \n",
    "        # Step 2: Select the first row that contains non-zero coefficient\n",
    "        pivot_row = row + [not is_zero(augmented_A[i][col]) for i in range(row, n_row)].index(True)\n",
    "        row_switch(augmented_A, row, pivot_row)\n",
    "\n",
    "        # Step 3: Leading 1 option\n",
    "        row_mul(augmented_A, row, 1/augmented_A[row][col])\n",
    "\n",
    "        # Step 4: Add an appropriate multiple of the current row to the other rows, so that the coefficients in the column col become 0\n",
    "        for i in range(n_row):\n",
    "            if i == row:\n",
    "                continue\n",
    "            \n",
    "            multiplier = augmented_A[i][col]/augmented_A[row][col]\n",
    "            row_add(augmented_A, i, row, -multiplier)\n",
    "\n",
    "        row += 1\n",
    "\n",
    "    return augmented_A\n",
    "\n",
    "# Invert matrix using Gauss-Jordan\n",
    "def invert_matrix_GJ(A):\n",
    "    n_col_A = len(A[0])\n",
    "    GJ_A = Gauss_Jordan(A)\n",
    "\n",
    "    # Separate the left and right matrices from the output matrix after using Gauss-Jordan elimination\n",
    "    lmatrix = [GJ_Ai[:n_col_A] for GJ_Ai in GJ_A]\n",
    "    rmatrix = [GJ_Ai[n_col_A:] for GJ_Ai in GJ_A]\n",
    "\n",
    "    # Determine whether the matrix is invertible\n",
    "    if lmatrix[-1][-1] == 0:\n",
    "        print('Singular matrix')\n",
    "        return None\n",
    "\n",
    "    return rmatrix\n",
    "\n"
   ]
  },
  {
   "cell_type": "markdown",
   "id": "ac88bb91",
   "metadata": {},
   "source": [
    " ## <font face=\"gotham\" color=\"green\">Hàm Gauss_Elimination và hàm Back_Substitution (phục vụ giải hệ phương trình tuyến tính để tìm vector riêng)</font>"
   ]
  },
  {
   "cell_type": "code",
   "execution_count": 98,
   "id": "545274c6",
   "metadata": {},
   "outputs": [],
   "source": [
    "def Gauss_elimination(A):\n",
    "    R = A.copy()\n",
    "    n_row, n_col = len(R), len(R[0]) # kích thước ma trận\n",
    "    row = col = 0\n",
    "    while row < n_row:\n",
    "        # Bước 1\n",
    "        while col < n_col and all(is_zero(R[i][col]) for i in range(row, n_row)):\n",
    "            col += 1\n",
    "        if col == n_col: # đã có dạng bậc thang\n",
    "            break\n",
    "        \n",
    "        # Bước 2 (chọn dòng đầu tiên có số hạng khác 0)\n",
    "        pivot_row = row + [not is_zero(R[i][col]) for i in range(row, n_row)].index(True)\n",
    "        row_switch(R, row, pivot_row)\n",
    "        \n",
    "        # Bước 3\n",
    "        row_mul(R, row, 1/R[row][col])\n",
    "            \n",
    "        # Bước 4\n",
    "        for i in range(row + 1, n_row):\n",
    "            row_add(R, i, row, -R[i][col])\n",
    "    \n",
    "        # Bước 5\n",
    "        row += 1\n",
    "    return R\n",
    "\n",
    "def back_substitution(R):\n",
    "    \"R là ma trận bậc thang của ma trận bổ sung của hệ phương trình Ax = b\"\n",
    "    n_row, n_col = len(R), len(R[0]) # kích thước ma trận R\n",
    "    \n",
    "    # vector nghiệm (danh sách theo thứ tự ẩn)\n",
    "    sol = [None for _ in range(n_col - 1)]\n",
    "    \n",
    "    # Tìm dòng dưới cùng khác không\n",
    "    row = n_row - 1\n",
    "    while row >= 0 and all(is_zero(R[row][j]) for j in range(n_col)):\n",
    "        row -= 1\n",
    "    \n",
    "    if row >= 0 and [not is_zero(R[row][j]) for j in range(n_col)].index(True) == n_col - 1:\n",
    "        print(\"Hệ phương trình tuyến tính vô nghiệm\") # vô nghiệm\n",
    "        return None\n",
    "    \n",
    "    last_pcol = n_col - 1\n",
    "    while row >= 0:\n",
    "        pcol = [not is_zero(R[row][j]) for j in range(n_col)].index(True)\n",
    "        for i in range(pcol, last_pcol): # các ẩn tự do\n",
    "            sol[i] = sp.symbols(f\"x{i + 1}\")\n",
    "        sol[pcol] = R[row][n_col - 1] - sum(R[row][j]*sol[j] for j in range(pcol + 1, n_col - 1))\n",
    "        last_pcol = pcol\n",
    "        row -= 1\n",
    "    \n",
    "    # Bổ sung các ẩn tự do từ 0 đến last_pcol - 1\n",
    "    for i in range(0, last_pcol):\n",
    "        sol[i] = sp.symbols(f\"x{i + 1}\")\n",
    "    return sol"
   ]
  },
  {
   "cell_type": "markdown",
   "id": "036121e0",
   "metadata": {},
   "source": [
    "## <font face=\"gotham\" color=\"green\">Các hàm phụ hỗ trợ cho việc tìm trị riêng - vector riêng và chéo hóa ma trận</font>"
   ]
  },
  {
   "cell_type": "code",
   "execution_count": 108,
   "id": "bc676f64",
   "metadata": {},
   "outputs": [],
   "source": [
    "def sort_eigenvalues_vectors(eigenvalues, eigenvectors):\n",
    "    idx = sorted(range(len(eigenvalues)), key=lambda k: eigenvalues[k], reverse=True)\n",
    "    sorted_eigenvalues = [eigenvalues[i] for i in idx]\n",
    "    sorted_eigenvectors = [[eigenvectors[j][i] for i in idx] for j in range(len(eigenvectors))]\n",
    "    return sorted_eigenvalues, sorted_eigenvectors\n",
    "\n",
    "def create_diagonal_matrix(diagonal_values):\n",
    "    n = len(diagonal_values)\n",
    "    D = [[0.0] * n for _ in range(n)]\n",
    "    for i in range(n):\n",
    "        D[i][i] = diagonal_values[i]\n",
    "    return D\n",
    "\n",
    "def multiply_matrix_to_vector(matrix, vector):\n",
    "    if len(matrix[0]) != len(vector):\n",
    "        return None\n",
    "    result = [0] * len(matrix)\n",
    "    for i in range(len(matrix)):\n",
    "        for j in range(len(vector)):\n",
    "            result[i] += matrix[i][j] * vector[j]\n",
    "    return result\n",
    "\n",
    "def dot_product(vector1, vector2):\n",
    "    \"\"\"Calculate the dot product of two vectors.\"\"\"\n",
    "    return sum(v1 * v2 for v1, v2 in zip(vector1, vector2))\n",
    "\n",
    "def normalize_vector(vector):\n",
    "    \"\"\"Normalize a vector (i.e., scale it to have a magnitude of 1).\"\"\"\n",
    "    magnitude = (sum(v**2 for v in vector))**0.5\n",
    "    return [v / magnitude for v in vector]\n",
    "\n",
    "def transpose(matrix):\n",
    "    n = len(matrix)\n",
    "    m = len(matrix[0])\n",
    "    return [[matrix[i][j] for i in range(n)] for j in range(m)]\n",
    "\n",
    "\n",
    "def magnitude(vector):\n",
    "    \"\"\"\n",
    "    Tính độ dài (độ lớn) của vector.\n",
    "    \"\"\"\n",
    "    return sum(x**2 for x in vector)**0.5\n",
    "\n",
    "#multiply 2 matrix\n",
    "def dot(A, B):\n",
    "    # Kiểm tra nếu số cột của ma trận A không bằng số hàng của ma trận B\n",
    "    if len(A[0]) != len(B):\n",
    "        raise ValueError(\"Số cột của ma trận A phải bằng số hàng của ma trận B.\")\n",
    "    \n",
    "    # Khởi tạo ma trận kết quả với kích thước phù hợp\n",
    "    result = [[0 for _ in range(len(B[0]))] for _ in range(len(A))]\n",
    "    \n",
    "    # Tính toán phép nhân ma trận\n",
    "    for i in range(len(A)):\n",
    "        for j in range(len(B[0])):\n",
    "            for k in range(len(B)):\n",
    "                result[i][j] += A[i][k] * B[k][j]\n",
    "    \n",
    "    return result\n",
    "\n",
    "def create_identity_matrix(size):\n",
    "    matrix = [[0] * size for _ in range(size)]\n",
    "    for i in range(size):\n",
    "        matrix[i][i] = 1\n",
    "    return matrix\n",
    "\n",
    "def subtract(A, B):\n",
    "    rows_A = len(A)\n",
    "    cols_A = len(A[0])\n",
    "    rows_B = len(B)\n",
    "    cols_B = len(B[0])\n",
    "\n",
    "    if rows_A != rows_B or cols_A != cols_B:\n",
    "        raise ValueError(\"The matrices must have the same dimensions for subtraction.\")\n",
    "\n",
    "    result = [[0 for j in range(cols_A)] for i in range(rows_A)]\n",
    "    for i in range(rows_A):\n",
    "        for j in range(cols_A):\n",
    "            result[i][j] = A[i][j] - B[i][j]\n",
    "\n",
    "    return result\n",
    "\n",
    "def add(A, B):\n",
    "    # Add matrix A and B\n",
    "    rows = len(A)\n",
    "    cols = len(A[0])\n",
    "\n",
    "    result = [[0 for j in range(cols)] for i in range(rows)]\n",
    "    for i in range(rows):\n",
    "        for j in range(cols):\n",
    "            result[i][j] = A[i][j] + B[i][j]\n",
    "    return result\n",
    "\n",
    "def copy_matrix(A):\n",
    "    rows = len(A)\n",
    "    cols = len(A[0])\n",
    "    Ak = [[0 for j in range(cols)] for i in range(rows)]\n",
    "\n",
    "    for i in range(rows):\n",
    "        for j in range(cols):\n",
    "            Ak[i][j] = A[i][j]\n",
    "\n",
    "    return Ak\n",
    "\n",
    "def create_identity_matrix_with_constant(n, s):\n",
    "    # Tạo ma trận đơn vị với kích thước nxn và phần tử chéo chính bằng s\n",
    "    identity_matrix = [[0 for _ in range(n)] for _ in range(n)]\n",
    "    for i in range(n):\n",
    "        identity_matrix[i][i] = s\n",
    "    return identity_matrix\n",
    "\n",
    "def extract_diagonal(matrix):\n",
    "    if not matrix:\n",
    "        return []\n",
    "\n",
    "    num_rows = len(matrix)\n",
    "    num_cols = len(matrix[0])\n",
    "\n",
    "    if num_rows != num_cols:\n",
    "        raise ValueError(\"Matrix is not square, cannot extract diagonal.\")\n",
    "\n",
    "    return [matrix[i][i] for i in range(num_rows)]\n",
    "\n",
    "def multiply_diagonal(matrix, number):\n",
    "    # Kiểm tra ma trận có đúng là ma trận vuông hay không\n",
    "    if not all(len(row) == len(matrix) for row in matrix):\n",
    "        raise ValueError(\"Ma trận không phải là ma trận vuông.\")\n",
    "\n",
    "    # Nhân số vào đường chéo\n",
    "    for i in range(len(matrix)):\n",
    "        for j in range(len(matrix[i])):\n",
    "            if i == j:  # Kiểm tra nếu đây là phần tử trên đường chéo\n",
    "                matrix[i][j] *= number\n",
    "\n",
    "    return matrix"
   ]
  },
  {
   "cell_type": "markdown",
   "id": "b2c6ec8d",
   "metadata": {},
   "source": [
    " # <font face=\"gotham\" color=\"purple\">Trị riêng - Vector riêng</font>"
   ]
  },
  {
   "cell_type": "markdown",
   "id": "7e157919",
   "metadata": {},
   "source": [
    "## <font face=\"gotham\" color=\"blue\">Cách 1: Sử dụng phương pháp giải phương trình đặc trưng $det(A - λI) = 0$ (cách được hướng dẫn trong phần bài tập)</font>"
   ]
  },
  {
   "cell_type": "code",
   "execution_count": 109,
   "id": "cad8629d",
   "metadata": {},
   "outputs": [],
   "source": [
    "def find_eigenvalues(matrix):\n",
    "    n = matrix.shape[0]\n",
    "    I = create_identity_matrix(n) # Ma trận đơn vị cùng kích thước với ma trận đầu vào\n",
    "    lamda = sp.Symbol('lambda')  # Biến lambda đại diện cho giá trị riêng\n",
    "    det_eq = determinant(subtract(matrix, multiply_diagonal(I, lamda)))  # Phương trình det(A - λI) = 0\n",
    "    eigenvalues = sp.solve(det_eq, lamda)  # Giải phương trình det(A - λI) = 0 để tìm các giá trị riêng\n",
    "    return eigenvalues\n",
    "\n",
    "def find_eigenvectors(matrix, eigenvalues):\n",
    "    eigenvectors = []\n",
    "    updated_eigenvalues = [] \n",
    "    for eigenvalue in eigenvalues:\n",
    "        # Tìm ma trận (A - λI) với giá trị riêng hiện tại \n",
    "        A_minus_lambdaI = matrix - eigenvalue * np.eye(matrix.shape[0])\n",
    "        vector_size = len(A_minus_lambdaI)\n",
    "        # Create the zero vector\n",
    "        vector0 = create_zero_vector(vector_size)\n",
    "        A_minus_lambdaI_list = [np_array.tolist() for np_array in A_minus_lambdaI]\n",
    "        # Add the zero vector as a new row to the augmented matrix\n",
    "        A_minus_lambdaI = create_augmented_matrix(A_minus_lambdaI_list, vector0)\n",
    "        A_minus_lambdaI = Gauss_elimination(A_minus_lambdaI)\n",
    "        eigenvector = back_substitution(A_minus_lambdaI)\n",
    "        # Extract symbols from the expressions\n",
    "        symbols_list = extract_symbols(eigenvector)\n",
    "        # Generate the vals list\n",
    "        vals = generate_vals(symbols_list)\n",
    "        # Evaluate the eigen_vectors by replacing symbol following values (1,0,0), (0,1,0), ...\n",
    "        eigenvector = evaluate_vectors(eigenvector, vals)\n",
    "        for _ in range (len(eigenvector)):\n",
    "            updated_eigenvalues.append(eigenvalue)\n",
    "        eigenvectors.extend(eigenvector)\n",
    "    return updated_eigenvalues, transpose(eigenvectors)"
   ]
  },
  {
   "cell_type": "markdown",
   "id": "bb687b3b",
   "metadata": {},
   "source": [
    "## <font face=\"gotham\" color=\"blue\">Cách 2:  Sử dụng thuật toán [Power iteration](https://en.wikipedia.org/wiki/Power_iteration) và Hotelling's Deflation [[1](https://web.stanford.edu/~lmackey/papers/deflation-nips08.pdf), [2](https://www.robots.ox.ac.uk/~sjrob/Teaching/EngComp/ecl4.pdf)]</font>"
   ]
  },
  {
   "cell_type": "code",
   "execution_count": 110,
   "id": "c700901f",
   "metadata": {},
   "outputs": [],
   "source": [
    "def eigen_power_iteration(A, n_iter=5000000, eps=1e-6):\n",
    "    A = np.array(A)\n",
    "    # Create a random vector\n",
    "    b_k = np.random.rand(A.shape[1])\n",
    "    b_k_pre = np.zeros(A.shape[1])\n",
    "\n",
    "    # Repeat the process of finding an eigenvector for a maximum of n_iter times\n",
    "    for _ in range(n_iter):\n",
    "        # Calculate the dot product of matrix A and eigenvector\n",
    "        numerator = multiply_matrix_to_vector(A, b_k)\n",
    "        denominator = magnitude(numerator)\n",
    "\n",
    "        b_k = scalar_multiply(1 / denominator, numerator)\n",
    "\n",
    "        # Terminate the loop when the change in the vector is negligible\n",
    "        if all(abs(x - y) < eps for x, y in zip(b_k, b_k_pre)):\n",
    "            break\n",
    "\n",
    "        b_k_pre = b_k\n",
    "\n",
    "    # Find eigen value (Rayleigh quotient iteration)\n",
    "    numerator = multiply_matrix_to_vector(A, b_k)\n",
    "    lamb = dot_product(b_k, numerator) / dot_product(b_k, b_k)\n",
    "\n",
    "    return lamb, b_k  # lamb: eigen value, b_k: eigen vector\n",
    "\n",
    "def my_eigens_power_iteration(A, n_iter=5000000, eps=1e-6):\n",
    "    eigenvalues = []\n",
    "    eigenvectors = []\n",
    "\n",
    "    n_rows = len(A)\n",
    "\n",
    "    # Find all possible eigenvalues and eigenvectors\n",
    "    for _ in range(n_rows):\n",
    "        lamb, b_k = eigen_power_iteration(A, n_iter, eps)\n",
    "\n",
    "        eigenvalues.append(lamb)\n",
    "        eigenvectors.append(b_k)\n",
    "\n",
    "        # Hotelling's deflation\n",
    "        b_k = [x for x in b_k]\n",
    "        A = [[A[i][j] - lamb * b_k[i] * b_k[j] for j in range(n_rows)] for i in range(n_rows)]\n",
    "\n",
    "    return np.array(eigenvalues), np.array(transpose(eigenvectors))\n"
   ]
  },
  {
   "cell_type": "markdown",
   "id": "860ade91",
   "metadata": {},
   "source": [
    "## <font face=\"gotham\" color=\"blue\">Cách 3: Sử dụng ứng dụng của [QR-Decomposition](https://www.andreinc.net/2021/01/25/computing-eigenvalues-and-eigenvectors-using-qr-decomposition) </font>"
   ]
  },
  {
   "cell_type": "code",
   "execution_count": 111,
   "id": "f509b51f",
   "metadata": {},
   "outputs": [],
   "source": [
    "def my_eigen_qr_practical(A, iterations=500000):\n",
    "    Ak = copy_matrix(A)\n",
    "    n = len(Ak)\n",
    "    QQ = create_identity_matrix(n)\n",
    "    for k in range(iterations):\n",
    "        # s_k is the last item of the first diagonal\n",
    "        s = Ak[-1][-1]\n",
    "        smult = create_identity_matrix_with_constant(n, s)\n",
    "        # pe perform qr and subtract smult\n",
    "        Q, R = np.linalg.qr(subtract(Ak, smult))\n",
    "        # we add smult back in\n",
    "        Ak = add(dot(R,Q), smult)\n",
    "        QQ = dot(QQ, Q)\n",
    "    eigenvalues = extract_diagonal(Ak)  # Extract eigenvalues from the diagonal of Ak\n",
    "    eigenvectors = QQ \n",
    "    return np.array(eigenvalues), np.array(eigenvectors)"
   ]
  },
  {
   "cell_type": "code",
   "execution_count": 112,
   "id": "b1c3fd1a",
   "metadata": {},
   "outputs": [],
   "source": [
    "#Các ma trận mẫu\n",
    "A = np.array([[4, 0, 1], \n",
    "             [-2, 1, 0], \n",
    "             [-2, 0, 1]])\n",
    "\n",
    "B = np.array([[3, -2, 0],\n",
    "             [-2, 3, 0],\n",
    "             [0, 0, 5]])\n",
    "\n",
    "C = np.array([[-1, 3, -1],\n",
    "             [-3, 5, -1],\n",
    "             [-3, 3, 1]])\n"
   ]
  },
  {
   "cell_type": "code",
   "execution_count": 113,
   "id": "311b67d1",
   "metadata": {},
   "outputs": [],
   "source": [
    "#Hàm dùng để đánh giá độ chính xác của kết quả chéo hóa\n",
    "def is_close(A, B, eps=10e-3):\n",
    "    return np.all(np.abs(A - B) < eps)"
   ]
  },
  {
   "cell_type": "markdown",
   "id": "2e5caf4a",
   "metadata": {},
   "source": [
    "# <font face=\"gotham\" color=\"purple\">Chéo hóa ma trận</font>\n",
    "---"
   ]
  },
  {
   "cell_type": "markdown",
   "id": "fca30484",
   "metadata": {},
   "source": [
    "## <font face=\"gotham\" color=\"green\">Các hàm phụ phục vụ chéo hóa</font>"
   ]
  },
  {
   "cell_type": "code",
   "execution_count": 114,
   "id": "69972343",
   "metadata": {
    "scrolled": true
   },
   "outputs": [],
   "source": [
    "def create_augmented_matrix(matrix, vector):\n",
    "    augmented_matrix = []\n",
    "    for i in range(len(matrix)):\n",
    "        augmented_matrix.append(matrix[i] + [vector[i]])\n",
    "    return augmented_matrix\n",
    "\n",
    "def create_zero_vector(size):\n",
    "    return [0] * size\n",
    "\n",
    "def extract_symbols(expressions):\n",
    "    symbols_list = set()\n",
    "    for expr in expressions:\n",
    "        if isinstance(expr, int):\n",
    "            continue  # Skip integers (constants) as they have no symbols\n",
    "        symbols_list.update(expr.free_symbols)\n",
    "    return sorted(list(symbols_list), key=lambda x: x.name)\n",
    "\n",
    "def generate_vals(symbols):\n",
    "    vals = []\n",
    "    num_symbols = len(symbols)\n",
    "    for i in range(num_symbols):\n",
    "        val_combinations = []\n",
    "        for j in range(num_symbols):\n",
    "            if i == j:\n",
    "                val_combinations.append((symbols[j], 1))\n",
    "            else:\n",
    "                val_combinations.append((symbols[j], 0))\n",
    "        vals.append(val_combinations)\n",
    "    return vals\n",
    "\n",
    "def evaluate_vectors(expressions, vals):\n",
    "    vectors = []\n",
    "    for val_combinations in vals:\n",
    "        vector = []\n",
    "        for expr in expressions:\n",
    "            if isinstance(expr, int):\n",
    "                vector.append(expr)  # Add the constant value directly to the vector\n",
    "            else:\n",
    "                evaluated_expr = expr.subs(val_combinations)\n",
    "                if evaluated_expr.is_number:\n",
    "                    vector.append(evaluated_expr)\n",
    "        if vector and not all(elem == 0 for elem in vector):  # Skip the vector if it's all zeros\n",
    "            vectors.append(vector)\n",
    "    return vectors\n",
    "\n",
    "\n",
    "def determinant(matrix):\n",
    "    matrix = sp.Matrix(matrix)\n",
    "    if matrix.shape == (2, 2):\n",
    "        return matrix[0, 0] * matrix[1, 1] - matrix[0, 1] * matrix[1, 0]\n",
    "\n",
    "    det = 0\n",
    "    for col in range(matrix.shape[1]):\n",
    "        submatrix = matrix[1:, :col].row_join(matrix[1:, col + 1:])\n",
    "        det += (-1) ** col * matrix[0, col] * determinant(submatrix)\n",
    "\n",
    "    return det"
   ]
  },
  {
   "cell_type": "markdown",
   "id": "ae8510c7",
   "metadata": {},
   "source": [
    "## <font face=\"gotham\" color=\"green\">Hàm chính thực hiện chéo hóa ma trận</font>"
   ]
  },
  {
   "cell_type": "code",
   "execution_count": 115,
   "id": "764f15c0",
   "metadata": {},
   "outputs": [],
   "source": [
    "def diagonalization_matrix(matrix):\n",
    "    \n",
    "    # eigenvalues, eigenvectors = my_eigens_power_iteration(matrix)\n",
    "    # eigenvalues, eigenvectors = my_eigen_qr_practical(matrix, 1000)\n",
    "\n",
    "    # Sort eigenvalues and eigenvectors\n",
    "    eigenvalues = find_eigenvalues(matrix)\n",
    "    eigenvalues, eigenvectors = find_eigenvectors(matrix, eigenvalues)\n",
    "    sorted_eigenvalues, sorted_eigenvectors = sort_eigenvalues_vectors(eigenvalues, eigenvectors)\n",
    "\n",
    "    # Create diagonal matrix D from sorted eigenvalues\n",
    "    D = create_diagonal_matrix(sorted_eigenvalues)\n",
    "\n",
    "    # Calculate matrix P from sorted eigenvectors\n",
    "    P = sorted_eigenvectors\n",
    "\n",
    "    # Calculate matrix P_inv (P inverse)\n",
    "    P_inv = invert_matrix_GJ(P)\n",
    "\n",
    "    return np.array(P), np.array(D), np.array(P_inv)\n"
   ]
  },
  {
   "cell_type": "code",
   "execution_count": 116,
   "id": "e4198d85",
   "metadata": {},
   "outputs": [
    {
     "name": "stdout",
     "output_type": "stream",
     "text": [
      "Matrix A:\n",
      "[[ 3 -2  0]\n",
      " [-2  3  0]\n",
      " [ 0  0  5]]\n",
      "Matrix P:\n",
      "[[-1.00000000000000 0 1.00000000000000]\n",
      " [1 0 1]\n",
      " [0 1 0]]\n",
      "Matrix D:\n",
      "[[5 0.0 0.0]\n",
      " [0.0 5 0.0]\n",
      " [0.0 0.0 1]]\n",
      "Matrix P_inv:\n",
      "[[-0.500000000000000 0.500000000000000 0]\n",
      " [0 0 1]\n",
      " [0.500000000000000 0.500000000000000 0]]\n",
      "A = P * D * P_inv:\n",
      "[[3.00000000000000 -2.00000000000000 0]\n",
      " [-2.00000000000000 3.00000000000000 0]\n",
      " [0 0 5]]\n"
     ]
    }
   ],
   "source": [
    "# Find diagonalization matrices P, P_inv, and D\n",
    "P, D, P_inv = diagonalization_matrix(B)\n",
    "result = dot(dot(P, D), P_inv)\n",
    "\n",
    "# Verify the result A = P * D * P_inv\n",
    "print(\"Matrix A:\")\n",
    "print(B)\n",
    "print(\"Matrix P:\")\n",
    "print(P)\n",
    "print(\"Matrix D:\")\n",
    "print(D)\n",
    "print(\"Matrix P_inv:\")\n",
    "print(P_inv)\n",
    "print(\"A = P * D * P_inv:\")\n",
    "print(np.array(result))"
   ]
  },
  {
   "cell_type": "markdown",
   "id": "ba8f9d3f",
   "metadata": {},
   "source": [
    "Kiểm tra lại kết quả $P^{-1} * A * P$ có bằng $D$ hay không"
   ]
  },
  {
   "cell_type": "code",
   "execution_count": 117,
   "id": "17a40eb1",
   "metadata": {},
   "outputs": [
    {
     "data": {
      "text/plain": [
       "True"
      ]
     },
     "execution_count": 117,
     "metadata": {},
     "output_type": "execute_result"
    }
   ],
   "source": [
    "is_close(D, dot(dot(P_inv, B), P))"
   ]
  },
  {
   "cell_type": "markdown",
   "id": "d9e75721",
   "metadata": {},
   "source": [
    "# <font face=\"gotham\" color=\"purple\">Thư viện `np.linalg`</font>"
   ]
  },
  {
   "cell_type": "markdown",
   "id": "0f77fb50",
   "metadata": {},
   "source": [
    "## <font face=\"gotham\" color=\"blue\">Tìm trị riêng - vector riêng sử dụng thư viện numpy</font>"
   ]
  },
  {
   "cell_type": "code",
   "execution_count": 132,
   "id": "a3cdf8c8",
   "metadata": {},
   "outputs": [
    {
     "data": {
      "text/plain": [
       "(array([5., 1., 5.]),\n",
       " array([[ 0.71,  0.71,  0.  ],\n",
       "        [-0.71,  0.71,  0.  ],\n",
       "        [ 0.  ,  0.  ,  1.  ]]))"
      ]
     },
     "execution_count": 132,
     "metadata": {},
     "output_type": "execute_result"
    }
   ],
   "source": [
    "A = np.array([[3, -2, 0],\n",
    "             [-2, 3, 0],\n",
    "             [0, 0, 5]])\n",
    "\n",
    "np_eigenvalues, np_eigenvectors = np.linalg.eig(A)\n",
    "\n",
    "np_eigenvalues, np_eigenvectors"
   ]
  },
  {
   "cell_type": "markdown",
   "id": "094a60f4",
   "metadata": {},
   "source": [
    "## <font face=\"gotham\" color=\"blue\">Chéo hóa ma trận sử dụng thư viện numpy</font>"
   ]
  },
  {
   "cell_type": "code",
   "execution_count": 133,
   "id": "a9fe1376",
   "metadata": {},
   "outputs": [],
   "source": [
    "def my_diag(A):\n",
    "    # Find eigenvalues and eigenvectors\n",
    "    eigenvalues, eigenvectors = np.linalg.eig(A)\n",
    "    \n",
    "    # Order eigenvectors by their corresponding eigenvalues\n",
    "    sorted_idx = np.argsort(eigenvalues)[::-1]\n",
    "    eigenvalues = eigenvalues[sorted_idx]\n",
    "    eigenvectors = eigenvectors[:, sorted_idx]\n",
    "    \n",
    "    P_matrix = eigenvectors\n",
    "    P_inv_matrix = np.linalg.inv(P_matrix)\n",
    "    D_matrix = np.diag(eigenvalues)\n",
    "    \n",
    "    return P_matrix, D_matrix, P_inv_matrix"
   ]
  },
  {
   "cell_type": "code",
   "execution_count": 134,
   "id": "965d319f",
   "metadata": {},
   "outputs": [
    {
     "data": {
      "text/plain": [
       "(array([[ 0.  ,  0.71,  0.71],\n",
       "        [ 0.  , -0.71,  0.71],\n",
       "        [ 1.  ,  0.  ,  0.  ]]),\n",
       " array([[5., 0., 0.],\n",
       "        [0., 5., 0.],\n",
       "        [0., 0., 1.]]),\n",
       " array([[ 0.  ,  0.  ,  1.  ],\n",
       "        [ 0.71, -0.71,  0.  ],\n",
       "        [ 0.71,  0.71,  0.  ]]))"
      ]
     },
     "execution_count": 134,
     "metadata": {},
     "output_type": "execute_result"
    }
   ],
   "source": [
    "P, D, P_inv = my_diag(A)\n",
    "(P, D, P_inv)"
   ]
  },
  {
   "cell_type": "code",
   "execution_count": 135,
   "id": "d473337f",
   "metadata": {},
   "outputs": [
    {
     "data": {
      "text/plain": [
       "(array([[5., 0., 0.],\n",
       "        [0., 5., 0.],\n",
       "        [0., 0., 1.]]),\n",
       " array([[ 5.,  0.,  0.],\n",
       "        [ 0.,  5., -0.],\n",
       "        [ 0., -0.,  1.]]))"
      ]
     },
     "execution_count": 135,
     "metadata": {},
     "output_type": "execute_result"
    }
   ],
   "source": [
    "D, P_inv @ A @ P"
   ]
  },
  {
   "cell_type": "code",
   "execution_count": 136,
   "id": "14149e26",
   "metadata": {},
   "outputs": [
    {
     "data": {
      "text/plain": [
       "True"
      ]
     },
     "execution_count": 136,
     "metadata": {},
     "output_type": "execute_result"
    }
   ],
   "source": [
    "is_close(D, P_inv @ A @ P)"
   ]
  },
  {
   "cell_type": "markdown",
   "id": "d542cdc3",
   "metadata": {},
   "source": [
    "# <font face=\"gotham\" color=\"purple\">Thư viện SymPy thực hiện chéo hóa</font>"
   ]
  },
  {
   "cell_type": "code",
   "execution_count": 137,
   "id": "f20853f6",
   "metadata": {},
   "outputs": [],
   "source": [
    "A = sp.Matrix([[3, -2, 0],\n",
    "             [-2, 3, 0],\n",
    "             [0, 0, 5]])\n",
    "\n"
   ]
  },
  {
   "cell_type": "code",
   "execution_count": 138,
   "id": "63992bd7",
   "metadata": {},
   "outputs": [],
   "source": [
    "P, D = A.diagonalize()"
   ]
  },
  {
   "cell_type": "code",
   "execution_count": 139,
   "id": "3e20887d",
   "metadata": {},
   "outputs": [
    {
     "data": {
      "text/latex": [
       "$\\displaystyle \\left[\\begin{matrix}1 & -1 & 0\\\\1 & 1 & 0\\\\0 & 0 & 1\\end{matrix}\\right]$"
      ],
      "text/plain": [
       "Matrix([\n",
       "[1, -1, 0],\n",
       "[1,  1, 0],\n",
       "[0,  0, 1]])"
      ]
     },
     "execution_count": 139,
     "metadata": {},
     "output_type": "execute_result"
    }
   ],
   "source": [
    "P"
   ]
  },
  {
   "cell_type": "code",
   "execution_count": 140,
   "id": "4674aef6",
   "metadata": {},
   "outputs": [
    {
     "data": {
      "text/latex": [
       "$\\displaystyle \\left[\\begin{matrix}1 & 0 & 0\\\\0 & 5 & 0\\\\0 & 0 & 5\\end{matrix}\\right]$"
      ],
      "text/plain": [
       "Matrix([\n",
       "[1, 0, 0],\n",
       "[0, 5, 0],\n",
       "[0, 0, 5]])"
      ]
     },
     "execution_count": 140,
     "metadata": {},
     "output_type": "execute_result"
    }
   ],
   "source": [
    "D"
   ]
  },
  {
   "cell_type": "code",
   "execution_count": 141,
   "id": "38b7f18e",
   "metadata": {},
   "outputs": [
    {
     "data": {
      "text/latex": [
       "$\\displaystyle \\left[\\begin{matrix}\\frac{1}{2} & \\frac{1}{2} & 0\\\\- \\frac{1}{2} & \\frac{1}{2} & 0\\\\0 & 0 & 1\\end{matrix}\\right]$"
      ],
      "text/plain": [
       "Matrix([\n",
       "[ 1/2, 1/2, 0],\n",
       "[-1/2, 1/2, 0],\n",
       "[   0,   0, 1]])"
      ]
     },
     "execution_count": 141,
     "metadata": {},
     "output_type": "execute_result"
    }
   ],
   "source": [
    "P**-1"
   ]
  },
  {
   "cell_type": "code",
   "execution_count": 142,
   "id": "c528ea61",
   "metadata": {},
   "outputs": [
    {
     "data": {
      "text/latex": [
       "$\\displaystyle \\left[\\begin{matrix}3 & -2 & 0\\\\-2 & 3 & 0\\\\0 & 0 & 5\\end{matrix}\\right]$"
      ],
      "text/plain": [
       "Matrix([\n",
       "[ 3, -2, 0],\n",
       "[-2,  3, 0],\n",
       "[ 0,  0, 5]])"
      ]
     },
     "execution_count": 142,
     "metadata": {},
     "output_type": "execute_result"
    }
   ],
   "source": [
    "P*D*P**-1"
   ]
  },
  {
   "cell_type": "code",
   "execution_count": 143,
   "id": "75c3a25a",
   "metadata": {},
   "outputs": [
    {
     "data": {
      "text/plain": [
       "True"
      ]
     },
     "execution_count": 143,
     "metadata": {},
     "output_type": "execute_result"
    }
   ],
   "source": [
    "P*D*P**-1 == A"
   ]
  },
  {
   "cell_type": "markdown",
   "id": "910b224c",
   "metadata": {},
   "source": [
    "## <font face=\"gotham\" color=\"green\">Sử dụng ```is_diagonalizable``` trong SymPy để kiểm tra ma trận A có chéo hóa được hay không</font>"
   ]
  },
  {
   "cell_type": "code",
   "execution_count": 144,
   "id": "3c4940aa",
   "metadata": {},
   "outputs": [
    {
     "data": {
      "text/plain": [
       "True"
      ]
     },
     "execution_count": 144,
     "metadata": {},
     "output_type": "execute_result"
    }
   ],
   "source": [
    "A.is_diagonalizable()"
   ]
  },
  {
   "cell_type": "markdown",
   "id": "0c692a3f",
   "metadata": {},
   "source": [
    "# <font face=\"gotham\" color=\"purple\">Một số ứng dụng của chéo hóa</font>"
   ]
  },
  {
   "cell_type": "markdown",
   "id": "6461709a",
   "metadata": {},
   "source": [
    "1. **Giải hệ phương trình tuyến tính**: Chéo hóa ma trận giúp chuyển đổi hệ phương trình tuyến tính thành một hệ phương trình đơn giản hơn để dễ dàng giải. Khi ma trận được chéo hóa, việc giải hệ phương trình trở nên dễ dàng hơn và tốn ít thời gian hơn.\n",
    "\n",
    "2. **Tính định thức**: Việc chéo hóa ma trận giúp tính định thức một cách dễ dàng hơn. Khi ma trận được chéo hóa, định thức của nó chính bằng tích của các phần tử nằm trên đường chéo chính.\n",
    "\n",
    "3. **Tính nghịch đảo ma trận**: Đối với ma trận vuông và khả nghịch, chéo hóa ma trận giúp tìm nghịch đảo của nó dễ dàng hơn. Nghịch đảo ma trận là một phép toán quan trọng trong nhiều ứng dụng trong toán học và khoa học máy tính.\n",
    "\n",
    "4. **Giải các bài toán tối ưu**: Chéo hóa ma trận là một bước quan trọng trong việc giải các bài toán tối ưu, như phân tích thành phần chính (PCA) và tối ưu hóa lồi.\n",
    "\n",
    "5. **Xử lý dữ liệu và ảnh**: Trong xử lý dữ liệu và xử lý ảnh, việc chéo hóa ma trận có thể giúp giảm chiều dữ liệu và giảm thông tin không cần thiết, từ đó giúp tăng tốc độ xử lý và giảm độ phức tạp tính toán.\n",
    "\n",
    "6. **Hệ thống đám mây**: Chéo hóa ma trận cũng được ứng dụng trong việc xây dựng hệ thống đám mây (cloud system) để tối ưu hóa tài nguyên và quản lý mạng.\n",
    "\n",
    "7. **Xử lý tín hiệu và âm thanh**: Trong xử lý tín hiệu và âm thanh, chéo hóa ma trận có thể được sử dụng để nén dữ liệu và giảm thiểu thông tin không cần thiết trong tín hiệu và âm thanh.\n",
    "\n"
   ]
  },
  {
   "cell_type": "markdown",
   "id": "520b9e05",
   "metadata": {},
   "source": [
    "# <font face=\"gotham\" color=\"purple\">Mô tả ý tưởng thực hiện và mô tả các hàm chính</font>"
   ]
  },
  {
   "cell_type": "markdown",
   "id": "d757f513",
   "metadata": {},
   "source": [
    "1. Hàm `find_eigenvalues(matrix)`: Hàm này tìm trị riêng của ma trận đầu vào bằng cách sử dụng phương trình đặc trưng det(A - λI) = 0, trong đó A là ma trận đầu vào, `λ` biểu diễn giá trị riêng và `I` là ma trận đơn vị cùng kích thước với `A`.\n",
    "    - Hàm trước tiên tạo một ma trận đơn vị I có cùng kích thước với ma trận đầu vào.\n",
    "    - Hàm định nghĩa một biến ký hiệu lamda để biểu diễn trị riêng (sử dụng Symbols trong thư viện Sympy).\n",
    "    - Sau đó, tính toán phương trình định thức det(A - λI). (sử dụng thêm `determinant`, `dot`, `substract` thực hiện biểu thức) \n",
    "    - Cuối cùng, hàm `solve` của thư viện **SymPy** để giải phương trình định thức theo hình thức biểu diễn toán học để tìm các giá trị riêng và trả về chúng.\n",
    "2. Hàm `find_eigenvectors(matrix, eigenvalues)` được viết để tìm các vector riêng tương ứng với danh sách các giá trị riêng cho một ma trận đầu vào. Cách thức hàm hoạt động như sau:\n",
    "    - Tạo ma trận `(A - λI)` bằng cách trừ giá trị của eigenvalue đã tìm trong hàm `find_eigenvalues` với ma trận đơn vị `I` có kích thước tương ứng với ma trận `matrix`. Ma trận `(A - λI)` này được tạo để tìm các vector riêng tương ứng với giá trị riêng này.\n",
    "    - Thêm vector không vào như một hàng mới của ma trận `(A - λI)` để lập ma trận bổ sung (augmented matrix)\n",
    "    - Sử dụng hàm `Gauss_elimination` đã làm trong đồ án **Gauss** để rút gọn ma trận `(A - λI)` về dạng bậc thang (có tham khảo trong file Lab 1_Toan UDTK_Gauss_after.html)\n",
    "    - Sử dụng hàm `back_substitution` để giải phương trình tuyến tính tìm ra các nghiệm tổng quát.\n",
    "    - Thay các kí hiệu $(x1, x2, x3,...)$ bằng các giá trị lần lượt theo thứ tự là $(1,0,0, ...), (0,1,0, ...), ...$ để tìm ra các vector riêng\n",
    "    - Với bao nhiêu số vector riêng tạo ra từ trị riêng đó thì thêm vào list `update_eigenvalues` bấy nhiêu số trị riêng đó.\n",
    "    - Cuối cùng hàm trả về `update_eigenvalues` (list các trị riêng) và ma trận chuyển vị của danh sách các vector riêng (các vector riêng được tạo thành cột của ma trận P)\n",
    "3. Hàm `diagonalization_matrix(matrix)`: Hàm này thực hiện đường chéo hóa ma trận.\n",
    "    - Gọi các hàm `find_eigenvalues(matrix)` và `find_eigenvectors(matrix, eigenvalues)` để tìm giá trị riêng và vector riêng.\n",
    "    - Sắp xếp các giá trị riêng và các vector riêng tương ứng. (theo thứ tự giảm dần)\n",
    "    - Tạo ma trận chéo `D` từ các giá trị riêng đã sắp xếp.\n",
    "    - Tính ma trận `P` từ các vector riêng đã sắp xếp.\n",
    "    - Tính ma trận nghịch đảo `P_inv` của ma trận `P`. (sử dụng hàm `invert_matrix_GJ` đã làm trong đồ án **Gauss – Jordan** để thực hiện nghịch đảo ma trận)\n",
    "    - Cuối cùng trả ra `P`, `P_inv`, `D`\n"
   ]
  },
  {
   "cell_type": "code",
   "execution_count": null,
   "id": "41dc9b0a",
   "metadata": {},
   "outputs": [],
   "source": []
  }
 ],
 "metadata": {
  "kernelspec": {
   "display_name": "Python 3 (ipykernel)",
   "language": "python",
   "name": "python3"
  },
  "language_info": {
   "codemirror_mode": {
    "name": "ipython",
    "version": 3
   },
   "file_extension": ".py",
   "mimetype": "text/x-python",
   "name": "python",
   "nbconvert_exporter": "python",
   "pygments_lexer": "ipython3",
   "version": "3.10.9"
  }
 },
 "nbformat": 4,
 "nbformat_minor": 5
}
