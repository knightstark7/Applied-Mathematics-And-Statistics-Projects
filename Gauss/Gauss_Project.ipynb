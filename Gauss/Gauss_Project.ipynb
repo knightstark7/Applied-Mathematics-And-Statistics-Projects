{
 "cells": [
  {
   "cell_type": "markdown",
   "id": "e7e76dd6",
   "metadata": {},
   "source": [
    "## Thông tin sinh viên\n",
    "\n",
    "- **Họ tên:** Trần Nguyên Huân\n",
    "- **Mã số sinh viên:** 21127050\n",
    "- **Lớp:** 21CLC03"
   ]
  },
  {
   "cell_type": "markdown",
   "id": "fb43dbd0",
   "metadata": {},
   "source": [
    "# Thuật toán Gauss\n",
    "Đây là một phương pháp giải hệ phương trình tuyến tính, còn được gọi là phương pháp khử Gauss.\n",
    "\n",
    "## Mô tả thuật toán\n",
    "---\n",
    "1. **Đưa ma trận hệ số và vector hệ số tự do về dạng ma trận mở rộng:**\n",
    "\n",
    "   - Đầu vào: Ma trận hệ số A (kích thước $m$ &times; $n$) và vector b (kích thước m).\n",
    "    $$ A_{m,n} = \n",
    "    \\begin{pmatrix}\n",
    "    a_{1,1} & a_{1,2} & \\cdots & a_{1,n} \\\\\n",
    "    a_{2,1} & a_{2,2} & \\cdots & a_{2,n} \\\\\n",
    "    \\vdots  & \\vdots  & \\ddots & \\vdots  \\\\\n",
    "    a_{m,1} & a_{m,2} & \\cdots & a_{m,n} \n",
    "    \\end{pmatrix} $$\n",
    "   - Đầu ra: Ma trận mở rộng $[A|b]$ (kích thước $m$ &times; $(n+1)$).\n",
    "\n",
    "2. **Khử Gauss:**\n",
    "\n",
    "   - Với mỗi hàng của ma trận, thực hiện các bước sau:\n",
    "     1. *Tìm phần tử chính của hàng hiện tại:*\n",
    "        - Tìm phần tử không bằng 0 đầu tiên từ trái sang phải.\n",
    "        - Đặt phần tử này làm phần tử chính của hàng.\n",
    "     \n",
    "     2. *Đưa phần tử chính về giá trị 1:*\n",
    "        - Chia tất cả các phần tử trong hàng cho phần tử chính.\n",
    "     \n",
    "     3. *Loại bỏ phần tử chính khỏi các hàng khác:*\n",
    "        - Với mỗi hàng khác hàng hiện tại, thực hiện phép cộng và nhân hàng để biến phần tử chính của hàng khác thành 0.\n",
    "        \n",
    "   - Kết thúc khi hoàn thành các bước trên, ta có ma trận ở dạng tam giác trên.\n",
    "\n",
    "3. **Khử ngược:**\n",
    "\n",
    "   - Tiến hành quá trình khử ngược bằng cách lấy từng hàng từ dưới lên và thực hiện các bước sau:\n",
    "     1. *Chọn phần tử chính của hàng hiện tại:*\n",
    "        - Tìm phần tử không bằng 0 đầu tiên từ phải sang trái.\n",
    "        - Đặt phần tử này làm phần tử chính của hàng.\n",
    "     \n",
    "     2. *Loại bỏ phần tử chính khỏi các hàng trên:*\n",
    "        - Với mỗi hàng trên hàng hiện tại, thực hiện phép cộng và nhân hàng để biến phần tử chính của hàng trên thành 0.\n",
    "        \n",
    "   - Kết thúc khi hoàn thành các bước trên, ta thu được ma trận ở dạng tam giác trên đơn vị.\n",
    "\n",
    "4. **Giải hệ phương trình:**\n",
    "\n",
    "   - Đọc các giá trị của biến từ ma trận tam giác trên đơn vị để tìm nghiệm của hệ phương trình.\n",
    "\n",
    "     1. *Xác định biến cơ sở và biến tự do:*\n",
    "        - Biến cơ sở là các biến tương ứng với các phần tử chính của ma trận tam giác trên.\n",
    "        - Biến tự do là các biến không phải là biến cơ sở.\n",
    "     \n",
    "     2. *Gán giá trị cho biến tự do:*\n",
    "        - Gán giá trị 0 cho tất cả các biến tự do.\n",
    "     \n",
    "     3. *Giải hệ phương trình:*\n",
    "        - Sử dụng biến cơ sở và biến tự do, xác định giá trị của biến cơ sở bằng cách lấy giá trị của phần tử phải của mỗi hàng trong ma trận tam giác trên đơn vị.\n",
    "        - Kết hợp các giá trị biến cơ sở và biến tự do để tạo ra nghiệm của hệ phương trình.\n",
    "        \n",
    "   - Kết thúc quá trình trên, ta thu được nghiệm của hệ phương trình tuyến tính.\n"
   ]
  },
  {
   "cell_type": "markdown",
   "id": "adfaeff6",
   "metadata": {},
   "source": [
    "## Phép khử Gauss\n",
    "---\n",
    "Tìm một dạng bậc thang của ma trận $A = (a_{ij}) ∈ M_{m×n}(R).$\n",
    "\n",
    "**Khử Gauss** (Gaussian elimination) là một cách biến đổi tương đương dòng đưa ma trận về dạng bậc thang. Thuật giải gồm các bước:\n",
    "\n",
    "> **Bước 1.** Xác định cột trái nhất không chứa toàn số 0.\n",
    "> \n",
    "> **Bước 2.** Đổi chỗ hai dòng, nếu cần thiết, để đưa số hạng khác 0 nào đó ở dưới về đầu cột nhận được ở Bước 1.  \n",
    "> (_Đơn giản nhất, có thể chọn dòng đầu tiên có số hạng khác 0\\. Phức tạp hơn, chiến lược \"partial pivoting\" chọn dòng có số hạng có trị tuyệt đối lớn nhất._)\n",
    "> \n",
    "> **Bước 3.** Với số hạng đầu cột nhận được từ Bước 2 là $a \\neq 0$, nhân dòng chứa nó với $\\frac{1}{a}$ để có **số dẫn đầu** 1 (leading 1).  \n",
    "> (_Bước này tùy chọn_.)\n",
    "> \n",
    "> **Bước 4.** Cộng một bội số thích hợp của dòng đầu cho từng dòng dưới để biến các số hạng bên dưới số dẫn đầu thành 0.\n",
    "> \n",
    "> **Bước 5.** Che dòng đầu đã làm xong. Lặp lại các bước cho đến khi được ma trận bậc thang.\n",
    "\n"
   ]
  },
  {
   "cell_type": "code",
   "execution_count": 14,
   "id": "52eb7105",
   "metadata": {},
   "outputs": [],
   "source": [
    "def Gauss_elimination(A):\n",
    "    # Lấy số hàng và số cột của ma trận\n",
    "    rows = len(A)\n",
    "    cols = len(A[0])\n",
    "\n",
    "    # Vòng lặp qua từng hàng\n",
    "    for i in range(rows):\n",
    "        # Tìm phần tử không bằng 0 đầu tiên trong cột i\n",
    "        j = i\n",
    "        while j < rows and A[j][i] == 0:\n",
    "            j += 1\n",
    "        \n",
    "        # Nếu không tìm thấy phần tử không bằng 0, bỏ qua cột này\n",
    "        if j == rows:\n",
    "            continue\n",
    "        \n",
    "        # Hoán đổi hàng j và hàng i\n",
    "        A[i], A[j] = A[j], A[i]\n",
    "        \n",
    "        # Lặp qua từng hàng khác và thực hiện phép loại bỏ Gauss\n",
    "        for k in range(i+1, rows):\n",
    "            factor = A[k][i] / A[i][i]\n",
    "            \n",
    "            # Giảm giá trị của hàng k\n",
    "            for l in range(i, cols):\n",
    "                A[k][l] -= factor * A[i][l]\n",
    "\n",
    "    return A"
   ]
  },
  {
   "cell_type": "code",
   "execution_count": 35,
   "id": "fe1319bf",
   "metadata": {},
   "outputs": [],
   "source": [
    "def back_substitution(A):\n",
    "    rows = len(A)\n",
    "    cols = len(A[0])\n",
    "    \n",
    "    free_variable = [[0 for _ in range(rows)] for _ in range(rows)]\n",
    "    solution = []\n",
    "\n",
    "    # Create a list of letters for free variables in reverse order\n",
    "    letters = [chr(ord('a') + rows - i - 1) for i in range(rows)]\n",
    "\n",
    "    for i in range(rows-1, -1, -1):\n",
    "        if all(A[i][j] == 0 for j in range(cols-1)) and A[i][cols-1] != 0:\n",
    "            return \"Hệ vô nghiệm.\"\n",
    "        elif all(A[i][j] == 0 for j in range(cols)):\n",
    "            solution.insert(0, letters[i])\n",
    "            free_variable[i][i] = 1\n",
    "        else:\n",
    "            sum = 0\n",
    "            for j in range(i+1, rows):\n",
    "                if free_variable[j][j] == 0:\n",
    "                    sum += A[i][j] * solution[j-i-1]\n",
    "                if any(free_variable[j][k] != 0 for k in range(rows)):\n",
    "                    for k in range(j, rows):\n",
    "                        free_variable[i][k] -= free_variable[j][k] * A[i][j] / A[i][i]\n",
    "            solution.insert(0, (A[i][cols-1] - sum) / A[i][i])\n",
    "\n",
    "    for i in range(rows):\n",
    "        solution[i] = str(solution[i])\n",
    "        for j in range(i+1, rows):\n",
    "            if free_variable[i][j] != 0:\n",
    "                solution[i] += ' + ' + str(free_variable[i][j]) + letters[j]\n",
    "\n",
    "    for i in range(len(solution)):\n",
    "        solution[i] = solution[i].replace('0.0 + ', '')\n",
    "        solution[i] = solution[i].replace('+ -', '- ')\n",
    "        solution[i] = solution[i].replace('--', '-')\n",
    "\n",
    "    return solution"
   ]
  },
  {
   "cell_type": "markdown",
   "id": "f9c87bd0",
   "metadata": {},
   "source": [
    "## Một số test cases để chạy thử "
   ]
  },
  {
   "cell_type": "code",
   "execution_count": 46,
   "id": "7952b863",
   "metadata": {},
   "outputs": [
    {
     "name": "stdout",
     "output_type": "stream",
     "text": [
      "Ma trận bậc thang: [[1, 6, 4, 0], [0.0, -8.0, -9.0, 0.0], [0.0, 0.0, 0.0, 0.0]]\n",
      "Nghiệm của hệ phương trình: (x1, x2, x3) = (2.75a, -1.125a, a)\n"
     ]
    }
   ],
   "source": [
    "# bai 12 trong file Bai tap tuan 1.pdf\n",
    "\n",
    "matrix = [[1,6,4,0],[2,4,-1,0],[-1,2,5,0]]\n",
    "gauss_matrix = Gauss_elimination(matrix)\n",
    "print(\"Ma trận bậc thang:\",gauss_matrix)\n",
    "solution = back_substitution(gauss_matrix)\n",
    "\n",
    "if solution != 'Hệ vô số nghiệm.':\n",
    "    formatted_solution = '(' + ', '.join('x'+str(i+1) for i in range(len(solution))) + ') = (' + ', '.join(solution) + ')'\n",
    "else:\n",
    "    formatted_solution = solution\n",
    "print(\"Nghiệm của hệ phương trình:\", formatted_solution)"
   ]
  },
  {
   "cell_type": "code",
   "execution_count": 47,
   "id": "d44519d6",
   "metadata": {},
   "outputs": [
    {
     "name": "stdout",
     "output_type": "stream",
     "text": [
      "Ma trận bậc thang: [[1, 2, 0, 2, 6], [0.0, -1.0, -1.0, 0.0, -1.0], [0.0, 0.0, 1.0, -2.0, 0.0], [0.0, 0.0, 0.0, 1.0, -1.0]]\n",
      "Nghiệm của hệ phương trình: (x1, x2, x3, x4) = (2.0, 3.0, -2.0, -1.0)\n"
     ]
    }
   ],
   "source": [
    "# bai 3 trong file Bai tap tuan 1.pdf\n",
    "\n",
    "matrix1 = [[1,2,0,2,6],[3,5,-1,6,17],[2,4,1,2,12],[2,0,-7,11,7]]\n",
    "gauss_matrix = Gauss_elimination(matrix1)\n",
    "print(\"Ma trận bậc thang:\",gauss_matrix)\n",
    "solution = back_substitution(gauss_matrix)\n",
    "\n",
    "if solution != 'Hệ vô số nghiệm.':\n",
    "    formatted_solution = '(' + ', '.join('x'+str(i+1) for i in range(len(solution))) + ') = (' + ', '.join(solution) + ')'\n",
    "else:\n",
    "    formatted_solution = solution\n",
    "print(\"Nghiệm của hệ phương trình:\", formatted_solution)"
   ]
  },
  {
   "cell_type": "code",
   "execution_count": 48,
   "id": "41810801",
   "metadata": {},
   "outputs": [
    {
     "name": "stdout",
     "output_type": "stream",
     "text": [
      "Ma trận bậc thang: [[1, -1, 1, -3, 0], [0.0, 1.0, 2.0, 4.0, 0.0], [0.0, 0.0, 0.0, 0.0, 0.0], [0.0, 0.0, 0.0, 0.0, 0.0]]\n",
      "Nghiệm của hệ phương trình: (x1, x2, x3, x4) = (-3.0b - 1.0a, -2.0b - 4.0a, b, a)\n"
     ]
    }
   ],
   "source": [
    "# bai 10 trong file Bai tap tuan 1.pdf\n",
    "\n",
    "matrix1 = [[1,-1,1,-3,0],[2,-1,4,-2,0],[0,0,0,0,0],[0,0,0,0,0]]\n",
    "gauss_matrix = Gauss_elimination(matrix1)\n",
    "print(\"Ma trận bậc thang:\",gauss_matrix)\n",
    "solution = back_substitution(gauss_matrix)\n",
    "\n",
    "if solution != 'Hệ vô số nghiệm.':\n",
    "    formatted_solution = '(' + ', '.join('x'+str(i+1) for i in range(len(solution))) + ') = (' + ', '.join(solution) + ')'\n",
    "else:\n",
    "    formatted_solution = solution\n",
    "print(\"Nghiệm của hệ phương trình:\", formatted_solution)"
   ]
  },
  {
   "cell_type": "code",
   "execution_count": 49,
   "id": "d424eded",
   "metadata": {},
   "outputs": [
    {
     "name": "stdout",
     "output_type": "stream",
     "text": [
      "Ma trận bậc thang: [[2, 1, -1, 8], [0.0, -0.5, 1.5, 1.0], [0.0, 0.0, 0.0, 2.0]]\n",
      "Hệ vô nghiệm.\n"
     ]
    }
   ],
   "source": [
    "matrix = [[2, 1, -1, 8],\n",
    "     [0, -0.5, 1.5, 1],\n",
    "     [0, 0, 0, 2]]\n",
    "gauss_matrix = Gauss_elimination(matrix)\n",
    "print(\"Ma trận bậc thang:\",gauss_matrix)\n",
    "solution = back_substitution(gauss_matrix)\n",
    "\n",
    "if solution != 'Hệ vô số nghiệm.':\n",
    "    formatted_solution = '(' + ', '.join('x'+str(i+1) for i in range(len(solution))) + ') = (' + ', '.join(solution) + ')'\n",
    "else:\n",
    "    formatted_solution = solution\n",
    "    \n",
    "print(solution)"
   ]
  },
  {
   "cell_type": "markdown",
   "id": "3e406ce4",
   "metadata": {},
   "source": [
    "## Mô tả ý tưởng và cách hoạt động của hàm Gauss_elimination(A)\n",
    "\n",
    "1. **Lấy số hàng (rows) và số cột (cols) của ma trận A.**\n",
    "2. **Bắt đầu vòng lặp qua từng hàng (i) của ma trận:**\n",
    "- Tìm phần tử không bằng 0 đầu tiên trong cột i. Điều này giúp tránh việc chia cho 0 trong quá trình thực hiện phép loại bỏ Gauss.\n",
    "- Nếu không tìm thấy phần tử không bằng 0, tức là cột i không còn khả dụng để thực hiện phép loại bỏ Gauss, bỏ qua cột này và tiếp tục với cột tiếp theo.\n",
    "- Nếu tìm thấy phần tử không bằng 0, hoán đổi hàng j chứa phần tử này với hàng i hiện tại. Điều này giúp đẩy các phần tử không bằng 0 về phía trên đường chéo chính, tạo điều kiện thuận lợi cho việc loại bỏ Gauss.\n",
    "- Tiếp tục với từng hàng khác (k) bên dưới hàng i và thực hiện phép loại bỏ Gauss:\n",
    "    - Tính toán hệ số factor, bằng phần tử ở hàng k, cột i chia cho phần tử ở hàng i, cột i. Hệ số này dùng để biến đổi các phần tử của hàng k để loại bỏ giá trị của cột i.\n",
    "    - Giảm giá trị của các phần tử trong hàng k bằng cách trừ đi factor nhân với giá trị của các phần tử tương ứng trong hàng i. Điều này đảm bảo rằng phần tử tại vị trí (k, i) trở thành 0 và các phần tử còn lại trong hàng k bị giảm đi một lượng phù hợp.\n",
    "3. **Sau khi hoàn thành vòng lặp, ma trận A sẽ có dạng ma trận tam giác trên. Hàm trả về ma trận này.**"
   ]
  },
  {
   "cell_type": "markdown",
   "id": "9359f06a",
   "metadata": {},
   "source": [
    "## Mô tả ý tưởng và cách hoạt động của hàm Gauss_elimination(A)\n",
    "1. **Lấy số hàng (rows) và số cột (cols) của ma trận A.**\n",
    "2. **Khởi tạo ma trận free_variable với kích thước rows x rows, chứa các phần tử mặc định là 0. Ma trận này dùng để lưu trữ thông tin về biến tự do (free variables) trong hệ phương trình.**\n",
    "3. **Khởi tạo một danh sách trống solution để lưu trữ các giá trị của các biến trong phương trình.**\n",
    "4. **Tạo một danh sách các chữ cái (từ 'a' đến 'z') cho biến tự do theo thứ tự ngược.**\n",
    "5. **Bắt đầu vòng lặp từ hàng cuối cùng (rows-1) đến hàng đầu tiên (0) với bước lùi.**\n",
    "- Nếu tất cả các phần tử trong hàng trừ cột cuối cùng đều bằng 0 và phần tử cuối cùng của hàng khác 0, tức là hệ phương trình vô nghiệm, hàm trả về thông báo \"Hệ vô nghiệm.\"\n",
    "- Nếu tất cả các phần tử trong hàng đều bằng 0, tức là hàng này là hàng zero, thì ta chèn ký tự biến tương ứng vào đầu danh sách solution và đặt phần tử tương ứng trong ma trận free_variable ở vị trí đường chéo chính bằng 1.\n",
    "- Trong trường hợp khác, ta tính toán tổng (sum) và lùi giá trị của biến từ các hàng phía dưới. Đồng thời, nếu có bất kỳ biến tự do nào trong các hàng phía dưới, ta cập nhật ma trận free_variable cho hàng hiện tại.\n",
    "- Chèn giá trị của biến hiện tại vào đầu danh sách solution bằng công thức (A[i][cols-1] - sum) / A[i][i].\n",
    "6. **Tiếp theo, ta xử lý các biến tự do trong danh sách solution. Duyệt qua từng phần tử trong danh sách:**\n",
    "- Chuyển đổi giá trị thành chuỗi.\n",
    "- Với mỗi biến tự do tại vị trí i, nếu phần tử tương ứng trong ma trận free_variable khác 0, ta thêm vào chuỗi biểu diễn của"
   ]
  },
  {
   "cell_type": "code",
   "execution_count": null,
   "id": "3d2adca4",
   "metadata": {},
   "outputs": [],
   "source": []
  }
 ],
 "metadata": {
  "kernelspec": {
   "display_name": "Python 3 (ipykernel)",
   "language": "python",
   "name": "python3"
  },
  "language_info": {
   "codemirror_mode": {
    "name": "ipython",
    "version": 3
   },
   "file_extension": ".py",
   "mimetype": "text/x-python",
   "name": "python",
   "nbconvert_exporter": "python",
   "pygments_lexer": "ipython3",
   "version": "3.10.9"
  }
 },
 "nbformat": 4,
 "nbformat_minor": 5
}
