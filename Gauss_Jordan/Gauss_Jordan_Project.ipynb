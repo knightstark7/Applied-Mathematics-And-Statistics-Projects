{
 "cells": [
  {
   "cell_type": "markdown",
   "id": "27e131ee",
   "metadata": {},
   "source": [
    "## Thông tin sinh viên\n",
    "\n",
    "- **Họ tên:** Trần Nguyên Huân\n",
    "- **Mã số sinh viên:** 21127050\n",
    "- **Lớp:** 21CLC03"
   ]
  },
  {
   "cell_type": "markdown",
   "id": "646eea61",
   "metadata": {},
   "source": [
    "## Tóm tắt phép khử Gauss - Jordan (Nguồn: trong file Lab 2_ToanUDTK_before)\n",
    "---\n",
    "Tìm một dạng bậc thang của ma trận $A = (a_{ij}) ∈ M_{m×n}(R).$\n",
    "\n",
    "**Khử Gauss** (Gaussian elimination) là một cách biến đổi tương đương dòng đưa ma trận về dạng bậc thang. Thuật giải gồm các bước:\n",
    "\n",
    "> **Bước 1.** Kiểm tra các số hạng từ dòng i đến dòng n của cột thứ i. Nếu chúng gồm toàn số 0, kết luận ma trận A không khả nghịch và giải thuật chấm dứt. Ngược lại, đổi chỗ hai dòng, nếu cần thiết, để đưa số hạng khác 0 nào đó ở dưới dòng thứ j về dòng thứ i.\n",
    "> \n",
    "> **Bước 2.** Với số hạng ở dòng thứ i là $a≠0$, nhân dòng i với $\\frac{1}{a}$ để nhận được số 1 (nằm trên đường chéo của A)\n",
    "> \n",
    "> **Bước 3.** Cộng một bội số thích hợp của dòng i với các dòng khác dòng i để biến các số hạng trên cột i về số **0** (trừ số hạng nằm ở dòng i. Trở lại bước 1 cho dòng kế, $i = i + 1$.\n",
    "\n",
    "Kết thúc giải thuật, ta nhận được ma trận $(I|A^{-1})$.\n",
    "\n"
   ]
  },
  {
   "cell_type": "markdown",
   "id": "34c8f7c4",
   "metadata": {},
   "source": [
    "## Pseudo Code giải thuật Gauss - Jordan (Mô tả ý tưởng)\n",
    "---\n",
    "**Input**: Ma trận vuông A.\n",
    "\n",
    "**Output**: Ma trận nghịch đảo của A nếu có, hoặc thông báo \"Ma trận không khả nghịch\".\n",
    "\n",
    "1. Khởi tạo ma trận đơn vị I có cùng kích thước với A.\n",
    "2. Tạo ma trận mở rộng (A|I).\n",
    "3. For i từ 0 đến (số hàng của A - 1):\n",
    "     - Tìm hàng pivot: pivot_row = i.\n",
    "       While phần tử tại cột i của hàng pivot bằng 0:\n",
    "         pivot_row += 1.\n",
    "         Nếu pivot_row = (số hàng của A), ma trận không khả nghịch, return \"Ma trận không khả nghịch\".\n",
    "     - Hoán đổi hàng pivot và hàng i trong ma trận mở rộng.\n",
    "     - Chia hàng pivot cho phần tử tại cột i để đưa phần tử đó về giá trị 1.\n",
    "     - Áp dụng phép biến đổi Gauss-Jordan để đưa phần tử tại vị trí (i, i) về giá trị 1:\n",
    "       For j từ 0 đến (số hàng của A - 1):\n",
    "         If j != i:\n",
    "           Trừ đi phần tử tại cột i của hàng j với phần tử tại cột i của hàng i nhân với phần tử tại vị trí (i, i) trong ma trận mở rộng.\n",
    "4. Trích xuất ma trận nghịch đảo từ ma trận mở rộng (cột từ (số hàng của A) đến (2*(số hàng của A) - 1)).\n",
    "\n",
    "**Note**: Giải thuật Gauss-Jordan sử dụng để tìm ma trận nghịch đảo của ma trận vuông. Nếu ma trận không khả nghịch, tức là không tồn tại ma trận nghịch đảo.\n"
   ]
  },
  {
   "cell_type": "code",
   "execution_count": 48,
   "id": "daeb75c2",
   "metadata": {},
   "outputs": [],
   "source": [
    "import numpy as np\n",
    "\n",
    "def inverse(A):\n",
    "    n = len(A)\n",
    "\n",
    "    # Khởi tạo ma trận đơn vị I\n",
    "    I = np.identity(n)\n",
    "\n",
    "    # Tạo ma trận mở rộng (A|I)\n",
    "    augmented_matrix = np.concatenate((A, I), axis=1)\n",
    "\n",
    "    # Áp dụng phép biến đổi Gauss-Jordan\n",
    "    for i in range(n):\n",
    "        # Tìm hàng chứa phần tử khác không tại cột i\n",
    "        pivot_row = i\n",
    "        while augmented_matrix[pivot_row, i] == 0:\n",
    "            pivot_row += 1\n",
    "\n",
    "            # Nếu không tìm thấy hàng phù hợp, ma trận không khả nghịch\n",
    "            if pivot_row == n:\n",
    "                print(\"Ma trận không khả nghịch\")\n",
    "                return None\n",
    "\n",
    "        # Hoán đổi hàng pivot về vị trí i\n",
    "        augmented_matrix[[i, pivot_row]] = augmented_matrix[[pivot_row, i]]\n",
    "\n",
    "        # Chia hàng pivot cho phần tử tại vị trí i để đưa phần tử đó về giá trị 1\n",
    "        augmented_matrix[i] /= augmented_matrix[i, i]\n",
    "\n",
    "        # Biến các số hàng trên cột j khác i về số 0\n",
    "        for j in range(n):\n",
    "            if j != i:\n",
    "                augmented_matrix[j] -= augmented_matrix[j, i] * augmented_matrix[i]\n",
    "\n",
    "    # Trích xuất ma trận nghịch đảo từ ma trận mở rộng\n",
    "    inverse_A = augmented_matrix[:, n:]\n",
    "\n",
    "    return inverse_A\n"
   ]
  },
  {
   "cell_type": "markdown",
   "id": "c0bb949c",
   "metadata": {},
   "source": [
    "## Một số test cases để chạy thử "
   ]
  },
  {
   "cell_type": "code",
   "execution_count": 49,
   "id": "84e3dab4",
   "metadata": {},
   "outputs": [
    {
     "data": {
      "text/plain": [
       "array([[-0.15142691, -0.26208503,  0.47874199],\n",
       "       [ 0.58241118,  0.23878858, -0.30285381],\n",
       "       [-0.23150844,  0.08008154,  0.02038439]])"
      ]
     },
     "execution_count": 49,
     "metadata": {},
     "output_type": "execute_result"
    }
   ],
   "source": [
    "# Trường hợp ma trận khả nghịch \n",
    "A1 = np.array([[1, 1.5, -1.2],\n",
    "              [2, 3.7, 8],\n",
    "              [3.5, 2.5, 4]])\n",
    "\n",
    "inverse(A1)\n",
    "\n",
    "\n"
   ]
  },
  {
   "cell_type": "code",
   "execution_count": 50,
   "id": "8b1fe4d5",
   "metadata": {},
   "outputs": [
    {
     "data": {
      "text/plain": [
       "array([[-0.66666667, -1.33333333,  1.        ],\n",
       "       [-0.66666667,  3.66666667, -2.        ],\n",
       "       [ 1.        , -2.        ,  1.        ]])"
      ]
     },
     "execution_count": 50,
     "metadata": {},
     "output_type": "execute_result"
    }
   ],
   "source": [
    "# Trường hợp ma trận khả nghịch \n",
    "A2 = np.array([[1, 2, 3],\n",
    "              [4, 5, 6],\n",
    "              [7, 8, 10]])\n",
    "\n",
    "inverse(A2)\n"
   ]
  },
  {
   "cell_type": "code",
   "execution_count": 51,
   "id": "9ac567fd",
   "metadata": {},
   "outputs": [
    {
     "name": "stdout",
     "output_type": "stream",
     "text": [
      "Ma trận không khả nghịch\n"
     ]
    }
   ],
   "source": [
    "# Trường hợp ma trận không khả nghịch \n",
    "B = np.array([[3, 2, 3],\n",
    "              [2, 1, 3],\n",
    "              [3, 2, 3]])\n",
    "               \n",
    "inverse(B)\n"
   ]
  },
  {
   "cell_type": "markdown",
   "id": "4f97a3a5",
   "metadata": {},
   "source": [
    "## Mở rộng một số hàm và phương thức tương ứng của thư viện và thực hiện để thực hiện tương tự hàm inverse() bên trên\n"
   ]
  },
  {
   "cell_type": "markdown",
   "id": "d6b14ef8",
   "metadata": {},
   "source": [
    "### NumPy: NumPy là một thư viện mạnh mẽ cho tính toán khoa học và số học trong Python. Có thể sử dụng numpy.linalg.inv() để tính toán ma trận nghịch đảo. Ví dụ:"
   ]
  },
  {
   "cell_type": "code",
   "execution_count": 52,
   "id": "af6755c7",
   "metadata": {},
   "outputs": [
    {
     "data": {
      "text/plain": [
       "array([[-0.15142691, -0.26208503,  0.47874199],\n",
       "       [ 0.58241118,  0.23878858, -0.30285381],\n",
       "       [-0.23150844,  0.08008154,  0.02038439]])"
      ]
     },
     "execution_count": 52,
     "metadata": {},
     "output_type": "execute_result"
    }
   ],
   "source": [
    "# Trường hợp ma trận khả nghịch \n",
    "A1 = np.array([[1, 1.5, -1.2],\n",
    "              [2, 3.7, 8],\n",
    "              [3.5, 2.5, 4]])\n",
    "\n",
    "np.linalg.inv(A1)"
   ]
  },
  {
   "cell_type": "code",
   "execution_count": 53,
   "id": "260d2f58",
   "metadata": {},
   "outputs": [
    {
     "data": {
      "text/plain": [
       "array([[-0.66666667, -1.33333333,  1.        ],\n",
       "       [-0.66666667,  3.66666667, -2.        ],\n",
       "       [ 1.        , -2.        ,  1.        ]])"
      ]
     },
     "execution_count": 53,
     "metadata": {},
     "output_type": "execute_result"
    }
   ],
   "source": [
    "# Trường hợp ma trận khả nghịch\n",
    "import numpy as np\n",
    "A2 = np.array([[1, 2, 3],\n",
    "              [4, 5, 6],\n",
    "              [7, 8, 10]])\n",
    "np.linalg.inv(A2)"
   ]
  },
  {
   "cell_type": "markdown",
   "id": "a3d4a24a",
   "metadata": {},
   "source": [
    "***Đối với trường hợp ma trận không khả nghịch hàm np.linalg.inv() sẽ xảy ra lỗi.***"
   ]
  },
  {
   "cell_type": "markdown",
   "id": "cd86db2a",
   "metadata": {},
   "source": [
    "## Pseudo thuật toán tìm ma trận nghịch đảo có kết hợp định thức và ma trận phụ (Mô tả ý tưởng)\n",
    "**Input**: Ma trận vuông A.\n",
    "\n",
    "**Output**: Ma trận nghịch đảo của A nếu có, hoặc thông báo \"Ma trận không khả nghịch\".\n",
    "\n",
    "1. Tính định thức của ma trận A: `det_A = np.linalg.det(A)`.\n",
    "2. Kiểm tra det_A có bằng 0 hay không:\n",
    "   - Nếu det_A = 0, in thông báo \"Ma trận không khả nghịch\" và trả về None.\n",
    "3. Tính kích thước của ma trận A: `n = A.shape[0]`.\n",
    "4. Tạo ma trận phụ adj_A có kích thước (n, n) và các phần tử ban đầu là 0.\n",
    "5. For i từ 0 đến (n-1):\n",
    "   - For j từ 0 đến (n-1):\n",
    "     - Tạo ma trận minor bằng cách xóa hàng i và cột j từ ma trận A: `minor = np.delete(np.delete(A, i, axis=0), j, axis=1)`.\n",
    "     - Tính giá trị cofactor cho phần tử A[i, j]: `cofactor = (-1)^(i+j) * np.linalg.det(minor)`.\n",
    "     - Gán giá trị cofactor cho phần tử adj_A[j, i].\n",
    "6. Tính ma trận nghịch đảo inv_A bằng cách chia từng phần tử của adj_A cho det_A: `inv_A = adj_A / det_A`.\n",
    "7. Trả về ma trận nghịch đảo inv_A.\n",
    "\n",
    "**Note**: Thuật toán này tính ma trận nghịch đảo bằng cách sử dụng ma trận phụ (adjoint matrix). Nếu ma trận không khả nghịch, tức là det_A = 0, thuật toán sẽ in thông báo \"Ma trận không khả nghịch\" và trả về None.\n"
   ]
  },
  {
   "cell_type": "code",
   "execution_count": 54,
   "id": "67aba3f8",
   "metadata": {},
   "outputs": [],
   "source": [
    "import numpy as np\n",
    "\n",
    "def inverse_matrix(A):\n",
    "    # Tính định thức của ma trận A\n",
    "    det_A = np.linalg.det(A)\n",
    "\n",
    "    # Kiểm tra ma trận A có khả nghịch hay không\n",
    "    if det_A == 0:\n",
    "        print(\"Ma trận không khả nghịch\")\n",
    "        return None\n",
    "\n",
    "    # Tính kích thước của ma trận A\n",
    "    n = A.shape[0]\n",
    "\n",
    "    # Tạo ma trận phụ (adjoint matrix)\n",
    "    adj_A = np.zeros((n, n))\n",
    "\n",
    "    for i in range(n):\n",
    "        for j in range(n):\n",
    "            # Tính ma trận phụ của phần tử A[i, j]\n",
    "            minor = np.delete(np.delete(A, i, axis=0), j, axis=1)\n",
    "            cofactor = (-1) ** (i + j) * np.linalg.det(minor)\n",
    "            adj_A[j, i] = cofactor\n",
    "\n",
    "    # Tính ma trận nghịch đảo bằng cách chia ma trận phụ cho định thức\n",
    "    inv_A = adj_A / det_A\n",
    "\n",
    "    return inv_A"
   ]
  },
  {
   "cell_type": "code",
   "execution_count": 55,
   "id": "500074eb",
   "metadata": {},
   "outputs": [
    {
     "data": {
      "text/plain": [
       "array([[-0.15142691, -0.26208503,  0.47874199],\n",
       "       [ 0.58241118,  0.23878858, -0.30285381],\n",
       "       [-0.23150844,  0.08008154,  0.02038439]])"
      ]
     },
     "execution_count": 55,
     "metadata": {},
     "output_type": "execute_result"
    }
   ],
   "source": [
    "# Trường hợp ma trận khả nghịch \n",
    "A1 = np.array([[1, 1.5, -1.2],\n",
    "              [2, 3.7, 8],\n",
    "              [3.5, 2.5, 4]])\n",
    "\n",
    "inverse(A1)"
   ]
  },
  {
   "cell_type": "code",
   "execution_count": 56,
   "id": "d59786ea",
   "metadata": {},
   "outputs": [
    {
     "data": {
      "text/plain": [
       "array([[-0.66666667, -1.33333333,  1.        ],\n",
       "       [-0.66666667,  3.66666667, -2.        ],\n",
       "       [ 1.        , -2.        ,  1.        ]])"
      ]
     },
     "execution_count": 56,
     "metadata": {},
     "output_type": "execute_result"
    }
   ],
   "source": [
    "A2 = np.array([[1, 2, 3],\n",
    "              [4, 5, 6],\n",
    "              [7, 8, 10]])\n",
    "\n",
    "inverse_matrix(A2)\n"
   ]
  },
  {
   "cell_type": "code",
   "execution_count": 57,
   "id": "b6591982",
   "metadata": {},
   "outputs": [
    {
     "name": "stdout",
     "output_type": "stream",
     "text": [
      "Ma trận không khả nghịch\n"
     ]
    }
   ],
   "source": [
    "# Trường hợp ma trận không khả nghịch \n",
    "B = np.array([[3, 2, 3],\n",
    "              [2, 1, 3],\n",
    "              [3, 2, 3]])\n",
    "               \n",
    "inverse(B)"
   ]
  },
  {
   "cell_type": "markdown",
   "id": "d8fde879",
   "metadata": {},
   "source": [
    "## ***Về phần mô tả ý tưởng đã trình bày trước mỗi code từng hàm thông qua pseudo code***\n",
    "\n",
    "## Nhận xét về kết quả:\n",
    "- Đối với trường hợp có khả nghịch, các kết quả trả ra từ các hàm chính (giải thuật khử gauss - jordan), kết quả từ hàm np.linalg.inv() của thư viện numpy và kết quả của phương thức sử dụng định thức kết hợp ma trận phụ là giống nhau. \n",
    "- Đối với trường hợp không khả nghịch thì hàm np.linalg.inv() sẽ thông báo lỗi, trong khi đó 2 phương thức còn lại sẽ trả ra thông báo \"Ma trận không khả nghịch\"."
   ]
  },
  {
   "cell_type": "code",
   "execution_count": null,
   "id": "96acdc5e",
   "metadata": {},
   "outputs": [],
   "source": []
  }
 ],
 "metadata": {
  "kernelspec": {
   "display_name": "Python 3 (ipykernel)",
   "language": "python",
   "name": "python3"
  },
  "language_info": {
   "codemirror_mode": {
    "name": "ipython",
    "version": 3
   },
   "file_extension": ".py",
   "mimetype": "text/x-python",
   "name": "python",
   "nbconvert_exporter": "python",
   "pygments_lexer": "ipython3",
   "version": "3.10.9"
  }
 },
 "nbformat": 4,
 "nbformat_minor": 5
}
