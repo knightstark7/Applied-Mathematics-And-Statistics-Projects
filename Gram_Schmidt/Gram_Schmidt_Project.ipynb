{
 "cells": [
  {
   "cell_type": "markdown",
   "id": "6697ff6c",
   "metadata": {},
   "source": [
    "# Thông tin sinh viên\n",
    "\n",
    "## - **Họ tên:** Trần Nguyên Huân\n",
    "## - **Mã số sinh viên:** 21127050\n",
    "## - **Lớp:** 21CLC03"
   ]
  },
  {
   "cell_type": "markdown",
   "id": "0cb86d0e",
   "metadata": {},
   "source": [
    "# <font face=\"gotham\" color=\"purple\"> Trực giao hóa Gram-Schmidt\n",
    "***    \n",
    "## Thuật giải. (Gram-Schmidt) \n",
    "  \n",
    "**Input:** Họ các vector $u_1, u_2, ..., u_n$ cùng kích thước. \n",
    "    \n",
    "**Output:** Thông báo nếu họ không độc lập tuyến tính; ngược lại, trả về họ trực giao $v_1, v_2, ..., v_n$ hoặc họ trực chuẩn $q_1, q_2, ..., q_n$ là các cơ sở của $Sp(v_1, v_2, ..., v_n)$.\n",
    "***  \n",
    "> **Bước 1.** $v_1 = u_1$. *Nếu  $v_1 = 0$ thông báo họ không độc lập tuyến tính và kết thúc.*\n",
    ">    \n",
    "> **Bước 2.** $v_2 = (\\frac{{\\langle u_2, v_1 \\rangle}}{{\\|v_1\\|^2}})  v_1$. *Nếu  $v_2 = 0$ thông báo họ không độc lập tuyến tính và kết thúc.*\n",
    ">    \n",
    ">**Bước 3. $v_3 = u_3 - (\\frac{{\\langle u_3, v_1 \\rangle}}{{\\|v_1\\|^2}})  v_1 - (\\frac{{\\langle u_3, v_2 \\rangle}}{{\\|v_2\\|^2}})  v_2$**. *Nếu $v_3 = 0$ thông báo họ không độc lập tuyến tính và kết thúc.*\n",
    ">\n",
    ">*... (đủ n bước hoặc kết thúc với thông báo họ không độc lập tuyến tính)*\n",
    ">    \n",
    ">**Bước chuẩn hóa (normalizing) (nếu cần họ trực chuẩn):**    \n",
    "><p style=\"text-align: center;\">$q_1 = \\frac{{v_1}}{{\\|v_1\\|}}$, $q_2 = \\frac{{v_2}}{{\\|v_2\\|}}$, ..., $q_n = \\frac{{v_n}}{{\\|v_n\\|}}$</p>\n",
    "\n",
    "\n",
    "\n"
   ]
  },
  {
   "cell_type": "markdown",
   "id": "1b560c2a",
   "metadata": {},
   "source": [
    "# <font face=\"gotham\" color=\"purple\"> Phân rã QR (QR decomposition)       \n",
    "**Mệnh đề. (Phân rã QR)** Nếu $A$ là ma trận $m × n$ gồm $n$ vector cột độc lập tuyến tính thì $A$ có thể được\n",
    "phân tích thành $$A = QR$$\n",
    "với $Q$ là ma trận $m × n$ gồm $n$ vector cột trực chuẩn và $R$ là ma trận $n × n$ tam giác trên khả nghịch. \n",
    "***    \n",
    "## Thuật giải (QR-decomposition) \n",
    "**Input:** Ma trận $A$ kích thước $m × n$. \n",
    "    \n",
    "**Output:** Thông báo nếu các cột của không độc lập tuyến tính; ngược lại, trả về $Q, R$. \n",
    "***        \n",
    "> **Bước 1.** Xác định $n$ cột của $A = [u_1 | u_2 | ... | u_n]$.\n",
    ">\n",
    "> **Bước 2.** Thực hiện thuật giải Gram-Schmidt trực chuẩn hóa $u_1, u_2, ..., u_n$.\n",
    ">\n",
    "> Thông báo nếu các cột của $A$ không độc lập tuyến tính và kết thúc; ngược lại, được $q_1, q_2, ..., q_n$ là họ\n",
    "trực chuẩn tương ứng.\n",
    ">\n",
    "> **Bước 3.** Xây dựng ma trận $Q$ gồm $n$ cột $q_1, q_2, ..., q_n$ \n",
    "> $$Q = [q_1 | q_2 | ... | q_n]$$\n",
    "> **Bước 4.** Xây dựng ma trận  kích thước $n × n$ như sau\n",
    "> $$R = \n",
    "\\begin{bmatrix}\n",
    "\\langle u_1, q_1 \\rangle & \\langle u_2, q_1 \\rangle & \\dots & \\langle u_n, q_1 \\rangle\\\\\n",
    "0 & \\langle u_2, q_2 \\rangle\\ & \\dots & \\langle u_n, q_2 \\rangle\\\\\n",
    "\\vdots & \\vdots & \\ddots & \\vdots\\\\\n",
    "0 & 0 & \\dots & \\langle u_n, q_n \\rangle\\\n",
    "\\end{bmatrix}$$\n",
    ">\n",
    "> **Bước 5.** Trả về $$A = QR$$\n"
   ]
  },
  {
   "cell_type": "markdown",
   "id": "d9d81b87",
   "metadata": {},
   "source": [
    "# <font face=\"gotham\" color=\"red\"> Mã nguồn thực thi"
   ]
  },
  {
   "cell_type": "code",
   "execution_count": 2,
   "id": "9eb4098b",
   "metadata": {},
   "outputs": [],
   "source": [
    "import numpy as np\n",
    "\n",
    "def norm(vector):\n",
    "    squared_sum = sum(x**2 for x in vector)\n",
    "    return squared_sum**0.5\n",
    "\n",
    "def dot_product(v1, v2):\n",
    "    return sum(x * y for x, y in zip(v1, v2))\n",
    "\n",
    "def vector_subtract(v1, v2):\n",
    "    return [x - y for x, y in zip(v1, v2)]\n",
    "\n",
    "def gram_schmidt_qr_decomposition(A):\n",
    "    m, n = len(A), len(A[0])\n",
    "    Q = np.zeros((m, n))\n",
    "    R = np.zeros((n, n))\n",
    "\n",
    "    for j in range(n):\n",
    "        v = A[:, j]\n",
    "        for i in range(j):\n",
    "            R[i, j] = dot_product(Q[:, i], A[:, j])\n",
    "            v = vector_subtract(v, [R[i, j] * x for x in Q[:, i]])\n",
    "        R[j, j] = norm(v)\n",
    "        Q[:, j] = [x / R[j, j] for x in v]\n",
    "        \n",
    "    np.set_printoptions(suppress=True)\n",
    "    \n",
    "    return Q, R\n",
    "\n",
    "\n"
   ]
  },
  {
   "cell_type": "markdown",
   "id": "faf99dbb",
   "metadata": {},
   "source": [
    "# <font face=\"gotham\" color=\"green\"> Một số test cases để chạy thử"
   ]
  },
  {
   "cell_type": "markdown",
   "id": "2886548b",
   "metadata": {},
   "source": [
    "## Test case 1: ma trận vuông 3 x 3"
   ]
  },
  {
   "cell_type": "code",
   "execution_count": 3,
   "id": "22edf5fc",
   "metadata": {},
   "outputs": [
    {
     "name": "stdout",
     "output_type": "stream",
     "text": [
      "Ma trận Q:\n",
      "[[ 0.57735027 -0.81649658 -0.        ]\n",
      " [ 0.57735027  0.40824829 -0.70710678]\n",
      " [ 0.57735027  0.40824829  0.70710678]]\n",
      "\n",
      "Ma trận R:\n",
      "[[1.73205081 1.15470054 0.57735027]\n",
      " [0.         0.81649658 0.40824829]\n",
      " [0.         0.         0.70710678]]\n"
     ]
    }
   ],
   "source": [
    "A = np.array([[1, 0, 0],\n",
    "              [1, 1, 0],\n",
    "              [1, 1, 1]])\n",
    "\n",
    "# Phân rã QR của ma trận A\n",
    "Q, R = gram_schmidt_qr_decomposition(A)\n",
    "\n",
    "# In ra ma trận Q và R\n",
    "print(\"Ma trận Q:\")\n",
    "print(Q)\n",
    "print(\"\\nMa trận R:\")\n",
    "print(R)"
   ]
  },
  {
   "cell_type": "markdown",
   "id": "433a8cac",
   "metadata": {},
   "source": [
    "## Test case 2: ma trận 1 x 3"
   ]
  },
  {
   "cell_type": "code",
   "execution_count": 4,
   "id": "1358d872",
   "metadata": {},
   "outputs": [
    {
     "name": "stdout",
     "output_type": "stream",
     "text": [
      "Ma trận Q:\n",
      "[[ 0.87695113]\n",
      " [ 0.3284933 ]\n",
      " [-0.35078323]]\n",
      "\n",
      "Ma trận R:\n",
      "[[1.]]\n"
     ]
    }
   ],
   "source": [
    "B = np.array([[ 0.87695113],\n",
    "              [ 0.3284933 ],\n",
    "              [-0.35078323]])\n",
    "\n",
    "# Phân rã QR của ma trận B\n",
    "Q, R = gram_schmidt_qr_decomposition(B)\n",
    "\n",
    "# In ra ma trận Q và R\n",
    "print(\"Ma trận Q:\")\n",
    "print(Q)\n",
    "print(\"\\nMa trận R:\")\n",
    "print(R)"
   ]
  },
  {
   "cell_type": "markdown",
   "id": "9362740a",
   "metadata": {},
   "source": [
    "## Test case 3: ma trận 4 x 3"
   ]
  },
  {
   "cell_type": "code",
   "execution_count": 23,
   "id": "eae279c4",
   "metadata": {},
   "outputs": [
    {
     "name": "stdout",
     "output_type": "stream",
     "text": [
      "Ma trận Q:\n",
      "[[ 0.57735027 -0.81649658 -0.         -0.87415728]\n",
      " [ 0.57735027  0.40824829 -0.70710678 -0.48564293]\n",
      " [ 0.57735027  0.40824829  0.70710678  0.        ]]\n",
      "\n",
      "Ma trận R:\n",
      "[[ 1.73205081  1.15470054  0.57735027  1.15470054]\n",
      " [ 0.          0.81649658  0.40824829 -0.40824829]\n",
      " [ 0.          0.          0.70710678  0.70710678]\n",
      " [ 0.          0.          0.          0.        ]]\n"
     ]
    }
   ],
   "source": [
    "C = np.array([[1, 0, 0, 1],\n",
    "              [1, 1, 0, 0],\n",
    "              [1, 1, 1, 1]])\n",
    "\n",
    "# Phân rã QR của ma trận A\n",
    "Q, R = gram_schmidt_qr_decomposition(C)\n",
    "\n",
    "# In ra ma trận Q và R\n",
    "print(\"Ma trận Q:\")\n",
    "print(Q)\n",
    "print(\"\\nMa trận R:\")\n",
    "print(R)"
   ]
  },
  {
   "cell_type": "markdown",
   "id": "0c6c17f5",
   "metadata": {},
   "source": [
    "## Thử nhân lại 2 ma trận Q và R để kiểm tra kết quả có bằng ma trận ban đầu A hay không "
   ]
  },
  {
   "cell_type": "code",
   "execution_count": 24,
   "id": "639a6d34",
   "metadata": {},
   "outputs": [
    {
     "data": {
      "text/plain": [
       "array([[ 1.,  0.,  0.,  1.],\n",
       "       [ 1.,  1., -0.,  0.],\n",
       "       [ 1.,  1.,  1.,  1.]])"
      ]
     },
     "execution_count": 24,
     "metadata": {},
     "output_type": "execute_result"
    }
   ],
   "source": [
    "result=np.dot(Q,R)\n",
    "result"
   ]
  },
  {
   "cell_type": "markdown",
   "id": "a8fa76be",
   "metadata": {},
   "source": [
    "# <font face=\"gotham\" color=\"orange\"> Hàm/phương thức tương ứng của các thư viện để thực thi thuật toán"
   ]
  },
  {
   "cell_type": "markdown",
   "id": "7a356423",
   "metadata": {},
   "source": [
    "## <font face=\"gotham\" color=\"blue\"> 1. numpy.linalg.qr()"
   ]
  },
  {
   "cell_type": "markdown",
   "id": "602d8712",
   "metadata": {},
   "source": [
    "### Test case 1: ma trận vuông 3 x 3"
   ]
  },
  {
   "cell_type": "code",
   "execution_count": 25,
   "id": "8afd777c",
   "metadata": {},
   "outputs": [
    {
     "name": "stdout",
     "output_type": "stream",
     "text": [
      "Ma trận Q_numpy:\n",
      "[[-0.57735027  0.81649658 -0.        ]\n",
      " [-0.57735027 -0.40824829 -0.70710678]\n",
      " [-0.57735027 -0.40824829  0.70710678]]\n",
      "\n",
      "Ma trận R_numpy:\n",
      "[[-1.73205081 -1.15470054 -0.57735027]\n",
      " [ 0.         -0.81649658 -0.40824829]\n",
      " [ 0.          0.          0.70710678]]\n"
     ]
    }
   ],
   "source": [
    "from numpy.linalg import qr as qr_numpy\n",
    "\n",
    "A = np.array([[1, 0, 0],\n",
    "              [1, 1, 0],\n",
    "              [1, 1, 1]])\n",
    "\n",
    "Q, R = qr_numpy(A)\n",
    "\n",
    "print(\"Ma trận Q_numpy:\")\n",
    "print(Q)\n",
    "print(\"\\nMa trận R_numpy:\")\n",
    "print(R)\n"
   ]
  },
  {
   "cell_type": "markdown",
   "id": "41822517",
   "metadata": {},
   "source": [
    "### Test case 2: ma trận 1 x 3"
   ]
  },
  {
   "cell_type": "code",
   "execution_count": 26,
   "id": "dc163708",
   "metadata": {},
   "outputs": [
    {
     "name": "stdout",
     "output_type": "stream",
     "text": [
      "Ma trận Q_numpy:\n",
      "[[-0.87695113]\n",
      " [-0.3284933 ]\n",
      " [ 0.35078323]]\n",
      "\n",
      "Ma trận R_numpy:\n",
      "[[-1.]]\n"
     ]
    }
   ],
   "source": [
    "B = np.array([[ 0.87695113],\n",
    "              [ 0.3284933 ],\n",
    "              [-0.35078323]])\n",
    "\n",
    "# Phân rã QR của ma trận B\n",
    "Q, R = qr_numpy(B)\n",
    "\n",
    "# In ra ma trận Q và R\n",
    "print(\"Ma trận Q_numpy:\")\n",
    "print(Q)\n",
    "print(\"\\nMa trận R_numpy:\")\n",
    "print(R)"
   ]
  },
  {
   "cell_type": "markdown",
   "id": "1df2baca",
   "metadata": {},
   "source": [
    "### Test case 3: ma trận 4 x 3"
   ]
  },
  {
   "cell_type": "code",
   "execution_count": 27,
   "id": "cc86fcab",
   "metadata": {},
   "outputs": [
    {
     "name": "stdout",
     "output_type": "stream",
     "text": [
      "Ma trận Q_numpy:\n",
      "[[-0.57735027  0.81649658 -0.        ]\n",
      " [-0.57735027 -0.40824829 -0.70710678]\n",
      " [-0.57735027 -0.40824829  0.70710678]]\n",
      "\n",
      "Ma trận R_numpy:\n",
      "[[-1.73205081 -1.15470054 -0.57735027 -1.15470054]\n",
      " [ 0.         -0.81649658 -0.40824829  0.40824829]\n",
      " [ 0.          0.          0.70710678  0.70710678]]\n"
     ]
    }
   ],
   "source": [
    "C = np.array([[1, 0, 0, 1],\n",
    "              [1, 1, 0, 0],\n",
    "              [1, 1, 1, 1]])\n",
    "\n",
    "# Phân rã QR của ma trận C\n",
    "Q, R = qr_numpy(C)\n",
    "\n",
    "# In ra ma trận Q và R\n",
    "print(\"Ma trận Q_numpy:\")\n",
    "print(Q)\n",
    "print(\"\\nMa trận R_numpy:\")\n",
    "print(R)"
   ]
  },
  {
   "cell_type": "markdown",
   "id": "3483d76d",
   "metadata": {},
   "source": [
    "## <font face=\"gotham\" color=\"blue\"> 2. scipy.linalg.qr()"
   ]
  },
  {
   "cell_type": "markdown",
   "id": "e1e30c82",
   "metadata": {},
   "source": [
    "### Test case 1: ma trận vuông 3 x 3"
   ]
  },
  {
   "cell_type": "code",
   "execution_count": 28,
   "id": "788ea3bb",
   "metadata": {},
   "outputs": [
    {
     "name": "stdout",
     "output_type": "stream",
     "text": [
      "Ma trận Q_scipy:\n",
      "[[-0.57735027  0.81649658 -0.        ]\n",
      " [-0.57735027 -0.40824829 -0.70710678]\n",
      " [-0.57735027 -0.40824829  0.70710678]]\n",
      "\n",
      "Ma trận R_scipy:\n",
      "[[-1.73205081 -1.15470054 -0.57735027]\n",
      " [ 0.         -0.81649658 -0.40824829]\n",
      " [ 0.          0.          0.70710678]]\n"
     ]
    }
   ],
   "source": [
    "from scipy.linalg import qr as qr_scipy\n",
    "\n",
    "A = np.array([[1, 0, 0],\n",
    "              [1, 1, 0],\n",
    "              [1, 1, 1]])\n",
    "\n",
    "Q, R = qr_scipy(A)\n",
    "\n",
    "print(\"Ma trận Q_scipy:\")\n",
    "print(Q)\n",
    "print(\"\\nMa trận R_scipy:\")\n",
    "print(R)"
   ]
  },
  {
   "cell_type": "markdown",
   "id": "10b98dd5",
   "metadata": {},
   "source": [
    "### Test case 2: ma trận 1 x 3"
   ]
  },
  {
   "cell_type": "code",
   "execution_count": 29,
   "id": "93a46a03",
   "metadata": {},
   "outputs": [
    {
     "name": "stdout",
     "output_type": "stream",
     "text": [
      "Ma trận Q_scipy:\n",
      "[[-0.87695113 -0.3284933   0.35078323]\n",
      " [-0.3284933   0.94250897  0.06139208]\n",
      " [ 0.35078323  0.06139208  0.93444215]]\n",
      "\n",
      "Ma trận R_scipy:\n",
      "[[-1.]\n",
      " [ 0.]\n",
      " [ 0.]]\n"
     ]
    }
   ],
   "source": [
    "B = np.array([[ 0.87695113],\n",
    "              [ 0.3284933 ],\n",
    "              [-0.35078323]])\n",
    "\n",
    "# Phân rã QR của ma trận B\n",
    "Q, R = qr_scipy(B)\n",
    "\n",
    "# In ra ma trận Q và R\n",
    "print(\"Ma trận Q_scipy:\")\n",
    "print(Q)\n",
    "print(\"\\nMa trận R_scipy:\")\n",
    "print(R)"
   ]
  },
  {
   "cell_type": "markdown",
   "id": "78b391f0",
   "metadata": {},
   "source": [
    "### Test case 3: ma trận 4 x 3"
   ]
  },
  {
   "cell_type": "code",
   "execution_count": 30,
   "id": "b25ae977",
   "metadata": {},
   "outputs": [
    {
     "name": "stdout",
     "output_type": "stream",
     "text": [
      "Ma trận Q_numpy:\n",
      "[[-0.57735027  0.81649658 -0.        ]\n",
      " [-0.57735027 -0.40824829 -0.70710678]\n",
      " [-0.57735027 -0.40824829  0.70710678]]\n",
      "\n",
      "Ma trận R_numpy:\n",
      "[[-1.73205081 -1.15470054 -0.57735027 -1.15470054]\n",
      " [ 0.         -0.81649658 -0.40824829  0.40824829]\n",
      " [ 0.          0.          0.70710678  0.70710678]]\n"
     ]
    }
   ],
   "source": [
    "C = np.array([[1, 0, 0, 1],\n",
    "              [1, 1, 0, 0],\n",
    "              [1, 1, 1, 1]])\n",
    "\n",
    "# Phân rã QR của ma trận C\n",
    "Q, R = qr_scipy(C)\n",
    "\n",
    "# In ra ma trận Q và R\n",
    "print(\"Ma trận Q_numpy:\")\n",
    "print(Q)\n",
    "print(\"\\nMa trận R_numpy:\")\n",
    "print(R)"
   ]
  },
  {
   "cell_type": "markdown",
   "id": "6b080769",
   "metadata": {},
   "source": [
    "## <font face=\"gotham\" color=\"red\"> So sánh giữa hai hàm numpy.linalg.qr() và scipy.linalg.qr()\n",
    "---\n",
    "### Hai hàm np.linalg.qr() và scipy.linalg.qr() đều được sử dụng để thực hiện phân rã QR của một ma trận, nhưng có một số khác biệt giữa chúng:\n",
    "\n",
    "1. Nguồn gốc và phụ thuộc thư viện:\n",
    "- np.linalg.qr() là một hàm của thư viện NumPy.\n",
    "- scipy.linalg.qr() là một hàm của thư viện SciPy, mở rộng từ NumPy và cung cấp các tính năng bổ sung cho tính toán khoa học và kỹ thuật.\n",
    "2. Đối tượng đầu vào:\n",
    "- Cả hai hàm đều chấp nhận ma trận đầu vào để thực hiện phân rã QR.\n",
    "- np.linalg.qr() cũng chấp nhận các đối tượng có thể chuyển đổi thành ma trận, như mảng NumPy hoặc ma trận thưa (sparse matrix).\n",
    "- scipy.linalg.qr() chấp nhận các đối tượng tương tự, bao gồm cả ma trận thưa trong định dạng CSR hoặc CSC.\n",
    "3. Trả về kết quả:\n",
    "- Cả hai hàm đều trả về các ma trận Q và R, tuy nhiên, có thể có sự khác biệt về cách trình bày kết quả.\n",
    "- np.linalg.qr() trả về ma trận Q và ma trận R theo cùng một thứ tự như input A.\n",
    "- scipy.linalg.qr() trả về ma trận Q và ma trận R theo thứ tự ngược với input A. Tức là, ma trận R là ma trận tam giác trên, và ma trận Q là ma trận trực giao có cùng số hàng và cột với A.\n",
    "4. Hiệu năng và tối ưu hóa:\n",
    "- np.linalg.qr() và scipy.linalg.qr() có triển khai và tối ưu hóa riêng của mình.\n",
    "- Thường thì scipy.linalg.qr() có hiệu năng tốt hơn cho các ma trận lớn, đặc biệt đối với các ma trận thưa.\n",
    "scipy.linalg.qr() sử dụng thuật toán LAPACK để tối ưu hóa hiệu năng trong nhiều trường hợp."
   ]
  },
  {
   "cell_type": "markdown",
   "id": "28471b30",
   "metadata": {},
   "source": [
    "## So sánh kết quả theo từng test case giữa hàm tự xây dựng và 2 hàm sử dụng thư viện (numpy.linalg.qr() và scipy.linalg.qr())"
   ]
  },
  {
   "cell_type": "markdown",
   "id": "b4930029",
   "metadata": {},
   "source": [
    "1. Test case 1 (ma trận 3x3): Kết quả trả về của ma trận Q, R của hàm tự xây dựng **khác** về **dấu** so với 2 hàm sử dụng thư viện \n",
    "2. Test case 2 (ma trận 1x3):\n",
    "- Kết quả trả về của ma trận Q, R của 3 hàm là **giống nhau**, chỉ khác về khác cách trình bày kết quả\n",
    "- Đối với hàm numpy.linalg.qr() thì mode trả về mặc định là reduced (dưới dạng rút gọn). Trong khi đó với hàm  scipy.linalg.qr() thì mocde trả về mặc định là full (dưới dạng đầy đủ). Vì thế kết quả trả về của hai hàm có thể khác nhau một chút.\n",
    "- Để có thể lấy được kết quả trả về của hai hàm là như nhau, ta có thể chỉnh **mode = 'economic'** cho  **scipy.linalg.qr()** còn mode **numpy.linalg.qr()** để mặc định hoặc là **mode = 'complete'** cho **numpy.linalg.qr()** còn **scipy.linalg.qr()** để mặc định (Với **mode = 'economic'** của hàm **scipy.linalg.qr()** thì ma trận Q, R trả về dưới dạng (M, K) và (K, N) thay vì (M, M) và (M, N) với K = min(M, N))  \n",
    "3. Test case 3 (ma trận 4x3): Kết quả trả về của ma trận Q, R của hàm tự xây dựng **khác biệt** rõ rệt so với hai hàm sử dụng thư viện \n",
    "\n"
   ]
  },
  {
   "cell_type": "markdown",
   "id": "53bf403e",
   "metadata": {},
   "source": [
    "## Giải thích về sự khác nhau của hàm tự xây dựng và hàm numpy.linalg.qr() (tương tự với hàm scipy.linalg.qr())\n",
    "1. Hàm gram_schmidt_qr_decomposition(A):\n",
    "- Sử dụng thuật giải **Gram-Schmidt**.\n",
    "- Sử dụng phương pháp lặp để tạo ra các vector cột của ma trận Q và tính toán ma trận R.\n",
    "- Trong quá trình lặp, các phép toán tích vô hướng và trừ vector được sử dụng để tính toán các phần tử của ma trận Q và R.\n",
    "- Tuy nhiên, phương pháp Gram-Schmidt có thể không hoạt động tốt với ma trận có các cột gần tương đương hoặc gần tương đương tuyến tính.\n",
    "\n",
    "2. Hàm sử dụng thư viện numpy.linalg.qr():\n",
    "- Đây là một hàm có sẵn trong NumPy để thực hiện phân rã QR.\n",
    "- Sử dụng một phương pháp tối ưu hóa và triển khai hiệu quả hơn để tính toán phân rã QR.\n",
    "- Sử dụng phép biến đổi **Householder** và/hoặc **phép biến đổi Givens** để tạo ra ma trận Q và tính toán ma trận R.\n",
    "- Được tối ưu hóa để xử lý hiệu quả các ma trận lớn và ma trận có cột gần tương đương.\n",
    "\n",
    "=> Vì cách tiếp cận và thuật toán khác nhau, kết quả trả về của hàm gram_schmidt_qr_decomposition(A) và numpy.linalg.qr() có thể khác nhau. "
   ]
  },
  {
   "cell_type": "markdown",
   "id": "7f589377",
   "metadata": {},
   "source": [
    "Khi thực hiện phân rã QR, một ma trận có thể có nhiều phân rã khác nhau, nhưng các phân rã đều thỏa mãn tính chất cơ bản của phân rã QR.\n",
    "\n",
    "Cụ thể, nếu $A$ là một ma trận có kích thước $m x n$ $(m >= n)$, phân rã $QR$ của $A$ là sự phân tách $A$ thành hai ma trận $Q$ và $R$, sao cho:\n",
    "\n",
    "Ma trận Q là một ma trận Orthogonal (trực giao), có kích thước m x m và thỏa mãn $Q^T . Q = I$, trong đó $Q^T$ là ma trận chuyển vị của Q và I là ma trận đơn vị.\n",
    "\n",
    "Ma trận $R$ là một ma trận Upper Triangular (tam giác trên), có kích thước n x n và các phần tử dưới đường chéo chính của R đều bằng 0.\n",
    "\n",
    "Điểm quan trọng là rằng, trong phân rã $QR$, không phải lúc nào cũng chỉ có một phân rã duy nhất. Vì vậy, có thể có nhiều cặp ma trận $Q$ và $R$ khác nhau thỏa mãn tính chất trên. Các phân rã này có thể khác nhau về các thành phần riêng lẻ, nhưng khi nhân lại, chúng sẽ tạo thành ma trận ban đầu $A$.\n",
    "\n",
    "Sự khác nhau giữa các phân rã $QR$ thường xuất hiện trong các phép tính số học hoặc khi sử dụng các thuật toán cụ thể liên quan đến phân rã $QR$. Mục tiêu chính trong phân rã $QR$ là tạo ra một cặp ma trận $Q$ và $R$ thỏa mãn các tính chất đã đề cập, và các thuật toán có thể có cách tiếp cận khác nhau để đạt được mục tiêu này."
   ]
  },
  {
   "cell_type": "markdown",
   "id": "0277fcad",
   "metadata": {},
   "source": [
    "# <font face=\"gotham\" color=\"green\"> Một số ứng dụng của QR decomposition"
   ]
  },
  {
   "cell_type": "markdown",
   "id": "c70baafb",
   "metadata": {},
   "source": [
    "\n",
    "Phân rã QR (QR decomposition) là một phương pháp quan trọng trong đại số tuyến tính và có nhiều ứng dụng trong khoa học dữ liệu, tính toán số và lĩnh vực khác. Dưới đây là một số ứng dụng chính của phân rã QR:\n",
    "\n",
    "**1. Giải hệ phương trình tuyến tính**: Phân rã QR được sử dụng để giải hệ phương trình tuyến tính Ax = b. Bằng cách phân rã ma trận A thành Q và R, ta có thể giải hệ phương trình này bằng phương pháp trực tiếp hoặc phương pháp nghịch đảo.\n",
    "\n",
    "**2. Tính toán ma trận nghịch đảo**: Phân rã QR có thể được sử dụng để tính toán ma trận nghịch đảo. Khi A là một ma trận vuông, ta có thể tính ma trận nghịch đảo bằng cách sử dụng phân rã QR và thuật toán giải hệ phương trình tuyến tính.\n",
    "\n",
    "**3. Phân tích giá trị riêng**: Phân rã QR được sử dụng trong phân tích giá trị riêng (eigenvalue analysis) của ma trận. Bằng cách áp dụng phân rã QR lên ma trận A, ta có thể tìm các giá trị riêng và vector riêng tương ứng của ma trận.\n",
    "\n",
    "**4. Phân rã SVD (Singular Value Decomposition)**: Phân rã QR có thể được sử dụng trong phân rã SVD, một phân rã quan trọng trong tính toán ma trận. Sử dụng phân rã QR, ta có thể thu được các ma trận U và V trong phân rã SVD của ma trận A.\n",
    "\n",
    "**5. Tính toán least squares**: Phân rã QR được sử dụng để tính toán bài toán least squares, trong đó ta tìm giá trị x tối thiểu của ||Ax - b||^2. Bằng cách áp dụng phân rã QR lên ma trận A, ta có thể tìm giá trị x gần đúng nhất cho bài toán least squares.\n",
    "\n",
    "**6. Phân tích suy biến**: Phân rã QR cũng được sử dụng trong phân tích suy biến (singular value analysis) của ma trận. Bằng cách áp dụng phân rã QR lên ma trận A, ta có thể tìm các giá trị suy biến và vector suy biến tương ứng của ma trận."
   ]
  },
  {
   "cell_type": "markdown",
   "id": "4c599d69",
   "metadata": {},
   "source": [
    "# <font face=\"gotham\" color=\"green\"> Ứng dụng trong hệ thống Multiple-Input and Multiple-Output)"
   ]
  },
  {
   "cell_type": "markdown",
   "id": "c1f9e606",
   "metadata": {},
   "source": [
    "Phân rã QR (QR decomposition) được sử dụng rộng rãi trong hệ thống MIMO (Multiple-Input Multiple-Output), trong đó có nhiều anten đầu vào và đầu ra. Dưới đây là một số ứng dụng của phân rã QR trong hệ thống MIMO:\n",
    "\n",
    "**1. Beamforming**: Beamforming là một kỹ thuật được sử dụng trong hệ thống MIMO để tạo ra các beam hướng tới vị trí cụ thể trong không gian. Phân rã QR được sử dụng để tạo ra các ma trận beamforming, trong đó ma trận Q chứa các vector beamforming trực giao và ma trận R chứa thông tin về hướng beam.\n",
    "\n",
    "**2. MIMO Detection**: Trong hệ thống MIMO, việc phân rã QR có thể được sử dụng để giải mã tín hiệu đầu ra từ các anten thu để tìm ra các tín hiệu từ các anten truyền gửi. Bằng cách sử dụng phân rã QR, ta có thể ước lượng được các tín hiệu từ các anten truyền và đưa ra các quyết định về thông tin truyền gửi.\n",
    "\n",
    "**3. Channel Equalization**: Trong hệ thống MIMO, phân rã QR có thể được sử dụng để ước lượng và cân bằng kênh truyền giữa các anten truyền và anten thu. Bằng cách sử dụng phân rã QR, ta có thể tìm ra ma trận equalization để cân bằng kênh và tối ưu hóa việc truyền tín hiệu giữa các anten.\n",
    "\n",
    "**4. Precoding**: Precoding là một kỹ thuật trong hệ thống MIMO được sử dụng để tối ưu hóa việc truyền tín hiệu từ các anten truyền để đạt được hiệu suất truyền tốt hơn. Phân rã QR có thể được sử dụng để tạo ra các ma trận precoding, trong đó ma trận Q chứa các vector precoding trực giao và ma trận R chứa thông tin về phân phối tín hiệu giữa các anten.\n",
    "\n",
    "**5. MIMO Channel Estimation**: Trong hệ thống MIMO, phân rã QR có thể được sử dụng để ước lượng kênh truyền giữa các anten truyền và anten thu. Bằng cách sử dụng phân rã QR trên các tín hiệu nhận được, ta có thể tìm ra các thông số kênh như ma trận Q và ma trận R, từ đó ước lượng được thông tin về kênh và tối ưu hóa việc truyền tín hiệu trong hệ thống MIMO."
   ]
  },
  {
   "cell_type": "markdown",
   "id": "6a00de36",
   "metadata": {},
   "source": [
    "## <font face=\"gotham\" color=\"red\"> Ý tưởng thực hiện và mô tả các hàm trong hàm QR decomposition tự xây dựng  "
   ]
  },
  {
   "cell_type": "markdown",
   "id": "44de3ae7",
   "metadata": {},
   "source": [
    "## Các hàm phụ hỗ trợ cho hàm chính"
   ]
  },
  {
   "cell_type": "markdown",
   "id": "2546b526",
   "metadata": {},
   "source": [
    "**1. Hàm norm(vector)**: Hàm này tính toán độ dài (norm) của một vector. Đầu vào là vector và được tính toán bằng cách lấy căn bậc hai của tổng bình phương các phần tử trong vector.\n",
    "\n",
    "**2. Hàm dot_product(v1, v2)**: Hàm này tính tích vô hướng (dot product) của hai vector. Đầu vào là hai vector v1 và v2, và được tính toán bằng cách lấy tổng của tích các phần tử tương ứng trong hai vector.\n",
    "\n",
    "**3. Hàm vector_subtract(v1, v2)**: Hàm này trừ hai vector v1 và v2. Đầu vào là hai vector và được tính toán bằng cách lấy hiệu của các phần tử tương ứng trong hai vector.\n"
   ]
  },
  {
   "cell_type": "markdown",
   "id": "a65e3679",
   "metadata": {},
   "source": [
    "## Hàm chính gram_schmidt_qr_decomposition()"
   ]
  },
  {
   "cell_type": "markdown",
   "id": "3e642816",
   "metadata": {},
   "source": [
    "Ý tưởng chính của hàm gram_schmidt_qr_decomposition(A) là thực hiện phân rã QR của ma trận A bằng phương pháp Gram-Schmidt. Phân rã QR giúp chia ma trận A thành hai ma trận Q và R, trong đó Q là ma trận trực giao và R là ma trận tam giác trên.\n",
    "\n",
    "Mô tả chi tiết của hàm gram_schmidt_qr_decomposition(A) như sau:\n",
    "\n",
    "**1. Khởi tạo ma trận Q và ma trận R có kích thước phù hợp với ma trận A và giá trị ban đầu là 0.**\n",
    "\n",
    "**2. Lặp qua từng cột j trong ma trận A**:\n",
    "- Lấy vector cột j của ma trận A và gán vào biến v.\n",
    "- Lặp qua từng cột i từ 0 đến j-1 trong ma trận Q:\n",
    "    - Tính giá trị R[i, j] bằng tích vô hướng của cột i của ma trận Q với cột j của ma trận A.\n",
    "    - Trừ đi phần tử R[i, j] nhân với cột i của ma trận Q khỏi biến v.\n",
    "- Tính giá trị R[j, j] bằng độ dài (norm) của biến v.\n",
    "- Chia tất cả các phần tử trong biến v cho giá trị R[j, j] để có cột j của ma trận Q.\n",
    "\n",
    "**3. Trả về ma trận Q và ma trận R**.\n",
    "\n",
    "**Ý tưởng của phương pháp Gram-Schmidt** là dựa trên việc xây dựng ma trận Q trực giao bằng cách loại bỏ các thành phần song song của ma trận A. Khi xây dựng ma trận Q, chúng ta đi qua từng cột của ma trận A và trừ đi các thành phần đã được xây dựng trước đó để đảm bảo tính trực giao. Đồng thời, ta tính toán ma trận R để lưu trữ thông tin về độ dài và định hướng của các thành phần trực giao. Cuối cùng, ma trận Q và ma trận R kết hợp lại để tạo thành phân rã QR của ma trận A.\n",
    "\n",
    "*Hai hàm **np.set_printoptions(suppress=True)** và **np.zeros()** là hàm của thư viện NumPy để thiết lập tùy chọn hiển thị và tạo ma trận zeros tương ứng.*"
   ]
  },
  {
   "cell_type": "code",
   "execution_count": null,
   "id": "c2b33cb1",
   "metadata": {},
   "outputs": [],
   "source": []
  }
 ],
 "metadata": {
  "kernelspec": {
   "display_name": "Python 3 (ipykernel)",
   "language": "python",
   "name": "python3"
  },
  "language_info": {
   "codemirror_mode": {
    "name": "ipython",
    "version": 3
   },
   "file_extension": ".py",
   "mimetype": "text/x-python",
   "name": "python",
   "nbconvert_exporter": "python",
   "pygments_lexer": "ipython3",
   "version": "3.10.9"
  }
 },
 "nbformat": 4,
 "nbformat_minor": 5
}
